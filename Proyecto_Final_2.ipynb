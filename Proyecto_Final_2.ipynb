{
  "nbformat": 4,
  "nbformat_minor": 0,
  "metadata": {
    "kernelspec": {
      "display_name": "Python 3",
      "language": "python",
      "name": "python3"
    },
    "language_info": {
      "codemirror_mode": {
        "name": "ipython",
        "version": 3
      },
      "file_extension": ".py",
      "mimetype": "text/x-python",
      "name": "python",
      "nbconvert_exporter": "python",
      "pygments_lexer": "ipython3",
      "version": "3.7.6"
    },
    "colab": {
      "name": "Proyecto Final 2.ipynb",
      "provenance": [],
      "collapsed_sections": [
        "3fMO72fop17U",
        "1A-X--Xup1_s",
        "mdsU04T3TBu_"
      ],
      "include_colab_link": true
    }
  },
  "cells": [
    {
      "cell_type": "markdown",
      "metadata": {
        "id": "view-in-github",
        "colab_type": "text"
      },
      "source": [
        "<a href=\"https://colab.research.google.com/github/drcruzm/misdatos/blob/master/Proyecto_Final_2.ipynb\" target=\"_parent\"><img src=\"https://colab.research.google.com/assets/colab-badge.svg\" alt=\"Open In Colab\"/></a>"
      ]
    },
    {
      "cell_type": "markdown",
      "metadata": {
        "id": "kUpD_8Vnp17A",
        "colab_type": "text"
      },
      "source": [
        "# **Formación de especialistas en la utilización de datos y recursos tecnológicos de ciencia de datos**\n",
        "\n",
        "### Proyecto final - 24 de julio de 2020\n",
        "\n",
        "<br>\n",
        "<div style=\"text-align: right; font-size: 1.8rem; font-weight: bold; color: blue; line-height: 1.3;\">\n",
        "    Barrera Canto José Luis<br>\n",
        "    Cifuentes González Irving Aarón<br>\n",
        "    Cruz Morales Víctor<br>\n",
        "    Moreno Alvarado Rodolfo Gilberto\n",
        "</div>\n",
        "<br>\n",
        "<br>"
      ]
    },
    {
      "cell_type": "code",
      "metadata": {
        "id": "B-xpGtfpqkrS",
        "colab_type": "code",
        "colab": {
          "base_uri": "https://localhost:8080/",
          "height": 51
        },
        "outputId": "7a9845fc-74a7-4e29-9dff-d9be64051bf1"
      },
      "source": [
        "import gdown\n",
        "import pandas as pd\n",
        "import seaborn as sb\n",
        "import numpy as np\n",
        "import matplotlib.pyplot as plt\n",
        "import seaborn as sns"
      ],
      "execution_count": null,
      "outputs": [
        {
          "output_type": "stream",
          "text": [
            "/usr/local/lib/python3.6/dist-packages/statsmodels/tools/_testing.py:19: FutureWarning: pandas.util.testing is deprecated. Use the functions in the public API at pandas.testing instead.\n",
            "  import pandas.util.testing as tm\n"
          ],
          "name": "stderr"
        }
      ]
    },
    {
      "cell_type": "markdown",
      "metadata": {
        "id": "3fMO72fop17U",
        "colab_type": "text"
      },
      "source": [
        "<br>\n",
        "\n",
        "## **Etapa 0. Lectura de los datos (incluyendo catálogos)**\n",
        "\n",
        "En esta parte se procede a leer la base de datos publicada en el **Portal de Datos Abiertos del Gobierno de México** relacionada con los casos asociados al **COVID-19** provocado por el coronavirus **SARS-CoV-2**. Esta información es generada por la **Dirección General de Epidemiología** y está publicada para todo aquel usuario que la requiera, para su acceso, uso, reutilización y redistribución, acorde al decreto publicado en el DOF el 20 de Febrero de 2015.\n",
        "\n",
        "Se cargan los catálogos correspondientes y se convierten todas las variables a los tipos de datos adecuados aplicando las categorías de cada catálogo."
      ]
    },
    {
      "cell_type": "code",
      "metadata": {
        "id": "p2_-vqcsp17g",
        "colab_type": "code",
        "colab": {}
      },
      "source": [
        "# Se leen los datos directamente del sitio web\n",
        "\n",
        "covid = pd.read_csv('http://187.191.75.115/gobmx/salud/datos_abiertos/datos_abiertos_covid19.zip', encoding = 'latin1')"
      ],
      "execution_count": null,
      "outputs": []
    },
    {
      "cell_type": "code",
      "metadata": {
        "id": "49uHVMv-1RNN",
        "colab_type": "code",
        "colab": {}
      },
      "source": [
        "covid = pd.read_csv('datos_abiertos_covid19.zip', encoding = 'latin1')"
      ],
      "execution_count": null,
      "outputs": []
    },
    {
      "cell_type": "code",
      "metadata": {
        "id": "scA9jmzGp18O",
        "colab_type": "code",
        "colab": {}
      },
      "source": [
        "# Se aplican las etiquetas de los catálogos generales (6 variables)\n",
        "\n",
        "covid.ORIGEN        = pd.Categorical(covid.ORIGEN, \n",
        "                                     categories = [1, 2, 99]).rename_categories(\n",
        "                                                  ['USMER', 'Fuera de USMER', 'No especificado'])\n",
        "\n",
        "covid.SECTOR        = pd.Categorical(covid.SECTOR, \n",
        "                                     categories = [1, 2, 3, 4, 5, 6, 7, 8, 9, 10, 11, 12, 13, 99]).rename_categories(\n",
        "                                                  ['Cruz Roja', 'DIF', 'Estatal', 'IMSS', 'IMSS Bienestar', 'ISSSTE', \n",
        "                                                   'Municipal', 'PEMEX', 'Privada', 'SEDENA', 'SEMAR', 'SSA', \n",
        "                                                   'Universitario', 'No especificado'])\n",
        "\n",
        "covid.SEXO          = pd.Categorical(covid.SEXO, \n",
        "                                     categories = [1, 2, 99]).rename_categories(\n",
        "                                                  ['Mujer', 'Hombre', 'No especificado'])\n",
        "\n",
        "covid.TIPO_PACIENTE = pd.Categorical(covid.TIPO_PACIENTE, \n",
        "                                     categories = [1, 2, 99]).rename_categories(\n",
        "                                                  ['Ambulatorio', 'Hospitalizado', 'No especificado'])\n",
        "\n",
        "covid.NACIONALIDAD  = pd.Categorical(covid.NACIONALIDAD, \n",
        "                                     categories = [1, 2, 99]).rename_categories(\n",
        "                                                  ['Mexicana', 'Extranjera', 'No especificada'])\n",
        "    \n",
        "covid.RESULTADO     = pd.Categorical(covid.RESULTADO, \n",
        "                                     categories = [1, 2, 3]).rename_categories(\n",
        "                                                  ['Positivo SARS-CoV-2', 'No Positivo SARS-CoV-2', \n",
        "                                                   'Resultado Pendiente'])"
      ],
      "execution_count": null,
      "outputs": []
    },
    {
      "cell_type": "code",
      "metadata": {
        "id": "Ex1dzkmWp18x",
        "colab_type": "code",
        "colab": {}
      },
      "source": [
        "# Se aplican las etiquetas de los catálogos SÍ/NO (17 variables)\n",
        "\n",
        "cat_values = [1, 2, 97, 98, 99]\n",
        "cat_labels = ['Sí', 'No', 'No aplica', 'Se ignora', 'No especificado']\n",
        "\n",
        "covid.INTUBADO           = pd.Categorical(covid.INTUBADO           , \n",
        "                                          categories = cat_values).rename_categories(cat_labels)\n",
        "covid.NEUMONIA           = pd.Categorical(covid.NEUMONIA           , \n",
        "                                          categories = cat_values).rename_categories(cat_labels)\n",
        "covid.EMBARAZO           = pd.Categorical(covid.EMBARAZO           , \n",
        "                                          categories = cat_values).rename_categories(cat_labels)\n",
        "covid.HABLA_LENGUA_INDIG = pd.Categorical(covid.HABLA_LENGUA_INDIG , \n",
        "                                          categories = cat_values).rename_categories(cat_labels)\n",
        "covid.DIABETES           = pd.Categorical(covid.DIABETES           , \n",
        "                                          categories = cat_values).rename_categories(cat_labels)\n",
        "covid.EPOC               = pd.Categorical(covid.EPOC               , \n",
        "                                          categories = cat_values).rename_categories(cat_labels)\n",
        "covid.ASMA               = pd.Categorical(covid.ASMA               , \n",
        "                                          categories = cat_values).rename_categories(cat_labels)\n",
        "covid.INMUSUPR           = pd.Categorical(covid.INMUSUPR           , \n",
        "                                          categories = cat_values).rename_categories(cat_labels)\n",
        "covid.HIPERTENSION       = pd.Categorical(covid.HIPERTENSION       , \n",
        "                                          categories = cat_values).rename_categories(cat_labels)\n",
        "covid.OTRA_COM           = pd.Categorical(covid.OTRA_COM           , \n",
        "                                          categories = cat_values).rename_categories(cat_labels)\n",
        "covid.CARDIOVASCULAR     = pd.Categorical(covid.CARDIOVASCULAR     , \n",
        "                                          categories = cat_values).rename_categories(cat_labels)\n",
        "covid.OBESIDAD           = pd.Categorical(covid.OBESIDAD           , \n",
        "                                          categories = cat_values).rename_categories(cat_labels)\n",
        "covid.RENAL_CRONICA      = pd.Categorical(covid.RENAL_CRONICA      , \n",
        "                                          categories = cat_values).rename_categories(cat_labels)\n",
        "covid.TABAQUISMO         = pd.Categorical(covid.TABAQUISMO         , \n",
        "                                          categories = cat_values).rename_categories(cat_labels)\n",
        "covid.OTRO_CASO          = pd.Categorical(covid.OTRO_CASO          , \n",
        "                                          categories = cat_values).rename_categories(cat_labels)\n",
        "covid.MIGRANTE           = pd.Categorical(covid.MIGRANTE           , \n",
        "                                          categories = cat_values).rename_categories(cat_labels)\n",
        "covid.UCI                = pd.Categorical(covid.UCI                , \n",
        "                                          categories = cat_values).rename_categories(cat_labels)"
      ],
      "execution_count": null,
      "outputs": []
    },
    {
      "cell_type": "code",
      "metadata": {
        "id": "Ti2ZMlg4p19D",
        "colab_type": "code",
        "colab": {}
      },
      "source": [
        "# Se aplican las conversiones para tipos de datos de tiempo (4 variables)\n",
        "\n",
        "covid.FECHA_ACTUALIZACION = pd.to_datetime(covid.FECHA_ACTUALIZACION)\n",
        "covid.FECHA_INGRESO = pd.to_datetime(covid.FECHA_INGRESO)\n",
        "covid.FECHA_SINTOMAS = pd.to_datetime(covid.FECHA_SINTOMAS)\n",
        "covid.FECHA_DEF = pd.to_datetime(covid.FECHA_DEF, errors = 'coerce')"
      ],
      "execution_count": null,
      "outputs": []
    },
    {
      "cell_type": "code",
      "metadata": {
        "id": "6VrEN4sCp19Q",
        "colab_type": "code",
        "colab": {
          "base_uri": "https://localhost:8080/"
        },
        "outputId": "7dfbad44-a8cf-4456-851a-a8554351644d"
      },
      "source": [
        "# Se aplican las etiquetas de información geográfica (4 variables)\n",
        "\n",
        "gdown.download('https://drive.google.com/uc?id=1eHpM76QtHrW2oONQOgnciQBjmUB8uBHv', 'catalogos.xlsx', quiet = False)\n",
        "\n",
        "catalogo_entidades = pd.read_excel('catalogos.xlsx', 'Catálogo de ENTIDADES')\n",
        "nombres_entidades = [x.title() for x in catalogo_entidades.ENTIDAD_FEDERATIVA]\n",
        "\n",
        "catalogo_municipios = pd.read_excel('catalogos.xlsx', 'Catálogo MUNICIPIOS')\n",
        "catalogo_municipios.MUNICIPIO = [x.title() for x in catalogo_municipios.MUNICIPIO]\n",
        "\n",
        "covid.MUNICIPIO_RES = pd.Categorical(pd.merge(covid, catalogo_municipios, how='left', \n",
        "                                              left_on=['MUNICIPIO_RES','ENTIDAD_RES'], \n",
        "                                              right_on=['CLAVE_MUNICIPIO','CLAVE_ENTIDAD']).MUNICIPIO)\n",
        "\n",
        "covid.ENTIDAD_UM = pd.Categorical(covid.ENTIDAD_UM, \n",
        "                                  categories = catalogo_entidades.CLAVE_ENTIDAD).rename_categories(nombres_entidades)\n",
        "\n",
        "covid.ENTIDAD_NAC = pd.Categorical(covid.ENTIDAD_NAC, \n",
        "                                   categories = catalogo_entidades.CLAVE_ENTIDAD).rename_categories(nombres_entidades)\n",
        "\n",
        "covid.ENTIDAD_RES = pd.Categorical(covid.ENTIDAD_RES, \n",
        "                                   categories = catalogo_entidades.CLAVE_ENTIDAD).rename_categories(nombres_entidades)"
      ],
      "execution_count": null,
      "outputs": [
        {
          "output_type": "stream",
          "text": [
            "Downloading...\n",
            "From: https://drive.google.com/uc?id=1eHpM76QtHrW2oONQOgnciQBjmUB8uBHv\n",
            "To: /content/catalogos.xlsx\n",
            "100%|██████████| 81.8k/81.8k [00:00<00:00, 23.9MB/s]\n"
          ],
          "name": "stderr"
        }
      ]
    },
    {
      "cell_type": "code",
      "metadata": {
        "id": "xhOf4C4Qp19t",
        "colab_type": "code",
        "colab": {}
      },
      "source": [
        "# Se procesan los encodings de las variables de texto (2 variables)\n",
        "\n",
        "covid.PAIS_NACIONALIDAD = pd.Categorical(\n",
        "    [x.encode('raw_unicode_escape').decode('utf-8').title() for x in covid.PAIS_NACIONALIDAD])\n",
        "\n",
        "covid.PAIS_ORIGEN = pd.Categorical([x.encode('utf-8').decode('utf-8').title() for x in covid.PAIS_ORIGEN])\n",
        "covid.PAIS_ORIGEN.cat.add_categories('No Aplica', inplace = True)\n",
        "covid.PAIS_ORIGEN.replace('99', 'No Aplica', inplace = True)\n",
        "covid.PAIS_ORIGEN.cat.remove_unused_categories(inplace = True)"
      ],
      "execution_count": null,
      "outputs": []
    },
    {
      "cell_type": "code",
      "metadata": {
        "id": "bE3uBHfnp198",
        "colab_type": "code",
        "colab": {}
      },
      "source": [
        "# Se establece el índice adecuado (1 variable)\n",
        "\n",
        "covid.set_index('ID_REGISTRO', inplace = True)"
      ],
      "execution_count": null,
      "outputs": []
    },
    {
      "cell_type": "code",
      "metadata": {
        "id": "LryC5oUip1-K",
        "colab_type": "code",
        "colab": {}
      },
      "source": [
        "# Se agregan variables para el análisis (1 variable)\n",
        "\n",
        "covid['FALLECIDO'] = pd.notnull(covid.FECHA_DEF)"
      ],
      "execution_count": null,
      "outputs": []
    },
    {
      "cell_type": "code",
      "metadata": {
        "id": "q9SVr3g_p1-k",
        "colab_type": "code",
        "colab": {}
      },
      "source": [
        "# Se despliega la estructura del dataframe\n",
        "\n",
        "covid.info()"
      ],
      "execution_count": null,
      "outputs": []
    },
    {
      "cell_type": "code",
      "metadata": {
        "id": "vb_ZWN6up1-w",
        "colab_type": "code",
        "colab": {
          "base_uri": "https://localhost:8080/"
        },
        "outputId": "3d94a9fd-61cf-441d-d1ee-19c2b40bba7c"
      },
      "source": [
        "covid.shape"
      ],
      "execution_count": null,
      "outputs": [
        {
          "output_type": "execute_result",
          "data": {
            "text/plain": [
              "(827951, 35)"
            ]
          },
          "metadata": {
            "tags": []
          },
          "execution_count": 12
        }
      ]
    },
    {
      "cell_type": "code",
      "metadata": {
        "id": "s52LkLyUp1_d",
        "colab_type": "code",
        "colab": {}
      },
      "source": [
        "covid.head(3)"
      ],
      "execution_count": null,
      "outputs": []
    },
    {
      "cell_type": "markdown",
      "metadata": {
        "id": "1A-X--Xup1_s",
        "colab_type": "text"
      },
      "source": [
        "<br>\n",
        "\n",
        "## **Etapa 1. Análisis exploratorio de datos**\n",
        "\n",
        "En esta parte se procede a describir las características de cada una de las variables del estudio."
      ]
    },
    {
      "cell_type": "markdown",
      "metadata": {
        "id": "Kfb_Sw7D_OQ1",
        "colab_type": "text"
      },
      "source": [
        "#### **Significado y codificación de las variables**\n",
        "\n",
        "El archivo contiene 35 variables cuyo significado se detalla a continuación:\n",
        "\n",
        "|No |Nombre             |Descripción                                                                          |Nivel de Medición|\n",
        "|:-:|-------------------|-------------------------------------------------------------------------------------|----------------:|\n",
        "|1  |FECHA_ACTUALIZACION|Fecha de la ultima actualizacion de la base de datos.                                |Ordinal          |\n",
        "|2  |ID_REGISTRO        |Identificador único del caso.                                                        |Nominal          |\n",
        "|3  |ORIGEN             |Indica el origen del caso para el sistema de vigilancia centinela, si proviene de una Unidad de Salud Monitora de Enfermedades Respiratorias (USMER)|Nominal|                                                              \n",
        "|4  |SECTOR             |Tipo de institución del Sistema Nacional de Salud que brindó la atención.            |Nominal|\n",
        "|5  |ENTIDAD_UM         |Entidad donde se ubica la unidad medica que brindó la atención.                      |Nominal|\n",
        "|6  |SEXO               |Sexo del paciente.                                                                   |Nominal|\n",
        "|7  |ENTIDAD_NAC        |Entidad de nacimiento del paciente.                                                  |Nominal|\n",
        "|8  |ENTIDAD_RES        |Entidad de residencia del paciente.                                                  |Nominal|\n",
        "|9  |MUNICIPIO_RES      |Municipio de residencia del paciente.                                                |Nominal|\n",
        "|10 |TIPO_PACIENTE      |Tipo de atención recibida por el paciente en la unidad: *ambulatorio* si regresó a su casa, *hospitalizado* si fue ingresado a hospitalización.|Nominal|\n",
        "|11 |FECHA_INGRESO      |Fecha de ingreso del paciente a la unidad de atención.                               |Ordinal|\n",
        "|12 |FECHA_SINTOMAS     |Fecha en que inició la sintomatología del paciente.                                  |Ordinal|\n",
        "|13 |FECHA_DEF          |Fecha en que el paciente falleció.                                                   |Ordinal|\n",
        "|14 |INTUBADO           |Indica si el paciente requirió de intubación.                                        |Nominal|\n",
        "|15 |NEUMONIA           |Indica si al paciente se le diagnosticó con neumonía.                                |Nominal|\n",
        "|16 |EDAD               |Indica la edad del paciente.                                                         |De razón|\n",
        "|17 |NACIONALIDAD       |Indica si el paciente es mexicano o extranjero.                                      |Nominal|\n",
        "|18 |EMBARAZO           |Indica si la paciente está embarazada.                                               |Nominal|\n",
        "|19 |HABLA_LENGUA_INDIG |Indica si el paciente habla lengua índigena.                                         |Nominal|\n",
        "|20 |DIABETES           |Indica si el paciente tiene un diagnóstico de diabetes.                              |Nominal|\n",
        "|21 |EPOC               |Indica si el paciente tiene un diagnóstico de EPOC.                                  |Nominal|\n",
        "|22 |ASMA               |Indica si el paciente tiene un diagnóstico de asma.                                  |Nominal|\n",
        "|23 |INMUSUPR           |Indica si el paciente presenta inmunosupresión.                                      |Nominal|\n",
        "|24 |HIPERTENSION       |Indica si el paciente tiene un diagnóstico de hipertensión.                          |Nominal|\n",
        "|25 |OTRAS_COM          |Indica si el paciente tiene diagnóstico de otras enfermedades.                       |Nominal|\n",
        "|26 |CARDIOVASCULAR     |Indica si el paciente tiene un diagnóstico de enfermedades cardiovasculares.         |Nominal|\n",
        "|27 |OBESIDAD           |Indica si el paciente tiene diagnóstico de obesidad.                                 |Nominal|\n",
        "|28 |RENAL_CRONICA      |Indica si el paciente tiene diagnóstico de insuficiencia renal crónica.              |Nominal|\n",
        "|29 |TABAQUISMO         |Indica si el paciente tiene hábito de tabaquismo.                                    |Nominal|\n",
        "|30 |OTRO_CASO          |Indica si el paciente tuvo contacto con algún otro caso diagnósticado con SARS CoV-2.|Nominal|\n",
        "|31 |RESULTADO          |Resultado del análisis de la muestra reportado por el laboratorio de la Red Nacional de Laboratorios de Vigilancia Epidemiológica (INDRE, LESP y LAVE).|Nominal|\n",
        "|32 |MIGRANTE           |Indica si el paciente es una persona migrante.                                       |Nominal|\n",
        "|33 |PAIS_NACIONALIDAD  |Indica la nacionalidad del paciente.                                                 |Nominal|\n",
        "|34 |PAIS_ORIGEN        |Indica el país del que partió el paciente rumbo a México.                            |Nominal|\n",
        "|35 |UCI                |Indica si el paciente requirió ingresar a una Unidad de Cuidados Intensivos.         |Nominal|\n",
        "\n",
        "Las codificaciones correspondientes para cada variables son las siguientes:\n",
        "\n",
        "|No |Nombre             |Formato / Codificación                             |\n",
        "|:-:|-------------------|---------------------------------------------------|\n",
        "|1  |FECHA_ACTUALIZACION|Fecha en formato AAAA-MM-DD                        |\n",
        "|2  |ID_REGISTRO        |n/a                                                | \n",
        "|3  |ORIGEN             |1 - USMER, 2 - Fuera de USMER, 99 - No especificado|\n",
        "|4  |SECTOR             |1 - Cruz Roja, 2 - DIF, 3 - Estatal, 4 - IMSS, 5 - IMSS Bienestar, 6 - ISSSTE, 7 - Municipal, 8 - PEMEX, 9 - Privada, 10 - SEDENA, 11 - SEMNAR, 12 - SSA, 13 - Universitario, 99 - No especificado|\n",
        "|5  |ENTIDAD_UM         |Catálogo de entidades federativas en México        |\n",
        "|6  |SEXO               |1 - Mujer, 2 - Hombre, 99 - No especificado        |\n",
        "|7  |ENTIDAD_NAC        |Catálogo de entidades federativas en México        |\n",
        "|8  |ENTIDAD_RES        |Catálogo de entidades federativas en México        |\n",
        "|9  |MUNICIPIO_RES      |Catálogo de municipios por entidad federativa en México             |\n",
        "|10 |TIPO_PACIENTE      |1 - Ambulatorio, 2 - Hospitalizado, 99 - No especificado            |\n",
        "|11 |FECHA_INGRESO      |Fecha en formato AAAA-MM-DD                                         |\n",
        "|12 |FECHA_SINTOMAS     |Fecha en formato AAAA-MM-DD                                         |\n",
        "|13 |FECHA_DEF          |Fecha en formato AAAA-MM-DD                                         |\n",
        "|14 |INTUBADO           |1 - Sí, 2 - No, 97 - No aplica, 98 - Se ignora, 99 - No especificado|\n",
        "|15 |NEUMONIA           |1 - Sí, 2 - No, 97 - No aplica, 98 - Se ignora, 99 - No especificado|\n",
        "|16 |EDAD               |n/a                                                                 |\n",
        "|17 |NACIONALIDAD       |1 - Mexicana, 2 - Extranjera                                        |\n",
        "|18 |EMBARAZO           |1 - Sí, 2 - No, 97 - No aplica, 98 - Se ignora, 99 - No especificado|\n",
        "|19 |HABLA_LENGUA_INDIG |1 - Sí, 2 - No, 97 - No aplica, 98 - Se ignora, 99 - No especificado|\n",
        "|20 |DIABETES           |1 - Sí, 2 - No, 97 - No aplica, 98 - Se ignora, 99 - No especificado|\n",
        "|21 |EPOC               |1 - Sí, 2 - No, 97 - No aplica, 98 - Se ignora, 99 - No especificado|\n",
        "|22 |ASMA               |1 - Sí, 2 - No, 97 - No aplica, 98 - Se ignora, 99 - No especificado|\n",
        "|23 |INMUSUPR           |1 - Sí, 2 - No, 97 - No aplica, 98 - Se ignora, 99 - No especificado|\n",
        "|24 |HIPERTENSION       |1 - Sí, 2 - No, 97 - No aplica, 98 - Se ignora, 99 - No especificado|\n",
        "|25 |OTRAS_COM          |1 - Sí, 2 - No, 97 - No aplica, 98 - Se ignora, 99 - No especificado|\n",
        "|26 |CARDIOVASCULAR     |1 - Sí, 2 - No, 97 - No aplica, 98 - Se ignora, 99 - No especificado|\n",
        "|27 |OBESIDAD           |1 - Sí, 2 - No, 97 - No aplica, 98 - Se ignora, 99 - No especificado|\n",
        "|28 |RENAL_CRONICA      |1 - Sí, 2 - No, 97 - No aplica, 98 - Se ignora, 99 - No especificado|\n",
        "|29 |TABAQUISMO         |1 - Sí, 2 - No, 97 - No aplica, 98 - Se ignora, 99 - No especificado|\n",
        "|30 |OTRO_CASO          |1 - Sí, 2 - No, 97 - No aplica, 98 - Se ignora, 99 - No especificado|\n",
        "|31 |RESULTADO          |1 - Positivo SARS-CoV-2, 2 - No positivo SARS-CoV-2, 3 - Resultado Pendiente|\n",
        "|32 |MIGRANTE           |1 - Sí, 2 - No, 97 - No aplica, 98 - Se ignora, 99 - No especificado|\n",
        "|33 |PAIS_NACIONALIDAD  |Texto|\n",
        "|34 |PAIS_ORIGEN        |Texto, 99 - No aplica|\n",
        "|35 |UCI                |1 - Sí, 2 - No, 97 - No aplica, 98 - Se ignora, 99 - No especificado|\n",
        "\n"
      ]
    },
    {
      "cell_type": "markdown",
      "metadata": {
        "id": "mdsU04T3TBu_",
        "colab_type": "text"
      },
      "source": [
        "#### **Ámbito del estudio**\n",
        "\n",
        "El presente estudio se delimitará únicamente a los casos donde **la entidad de residencia es el estado de Yucatán**.\n"
      ]
    },
    {
      "cell_type": "code",
      "metadata": {
        "id": "tLdr48G7TTJi",
        "colab_type": "code",
        "colab": {}
      },
      "source": [
        "yucatan = covid[covid.ENTIDAD_RES == 'Yucatán']"
      ],
      "execution_count": null,
      "outputs": []
    },
    {
      "cell_type": "code",
      "metadata": {
        "id": "STaiR0lnTsME",
        "colab_type": "code",
        "colab": {
          "base_uri": "https://localhost:8080/",
          "height": 34
        },
        "outputId": "cd3a0c26-ff49-427a-987b-9896d24bcd0e"
      },
      "source": [
        "yucatan.shape"
      ],
      "execution_count": null,
      "outputs": [
        {
          "output_type": "execute_result",
          "data": {
            "text/plain": [
              "(16100, 35)"
            ]
          },
          "metadata": {
            "tags": []
          },
          "execution_count": 17
        }
      ]
    },
    {
      "cell_type": "code",
      "metadata": {
        "id": "YwmEjyfyT1Ee",
        "colab_type": "code",
        "colab": {
          "base_uri": "https://localhost:8080/",
          "height": 360
        },
        "outputId": "37e82d22-d6f5-4359-d8d9-093a5bf34f33"
      },
      "source": [
        "yucatan.head(4)"
      ],
      "execution_count": null,
      "outputs": [
        {
          "output_type": "execute_result",
          "data": {
            "text/html": [
              "<div>\n",
              "<style scoped>\n",
              "    .dataframe tbody tr th:only-of-type {\n",
              "        vertical-align: middle;\n",
              "    }\n",
              "\n",
              "    .dataframe tbody tr th {\n",
              "        vertical-align: top;\n",
              "    }\n",
              "\n",
              "    .dataframe thead th {\n",
              "        text-align: right;\n",
              "    }\n",
              "</style>\n",
              "<table border=\"1\" class=\"dataframe\">\n",
              "  <thead>\n",
              "    <tr style=\"text-align: right;\">\n",
              "      <th></th>\n",
              "      <th>FECHA_ACTUALIZACION</th>\n",
              "      <th>ORIGEN</th>\n",
              "      <th>SECTOR</th>\n",
              "      <th>ENTIDAD_UM</th>\n",
              "      <th>SEXO</th>\n",
              "      <th>ENTIDAD_NAC</th>\n",
              "      <th>ENTIDAD_RES</th>\n",
              "      <th>MUNICIPIO_RES</th>\n",
              "      <th>TIPO_PACIENTE</th>\n",
              "      <th>FECHA_INGRESO</th>\n",
              "      <th>FECHA_SINTOMAS</th>\n",
              "      <th>FECHA_DEF</th>\n",
              "      <th>INTUBADO</th>\n",
              "      <th>NEUMONIA</th>\n",
              "      <th>EDAD</th>\n",
              "      <th>NACIONALIDAD</th>\n",
              "      <th>EMBARAZO</th>\n",
              "      <th>HABLA_LENGUA_INDIG</th>\n",
              "      <th>DIABETES</th>\n",
              "      <th>EPOC</th>\n",
              "      <th>ASMA</th>\n",
              "      <th>INMUSUPR</th>\n",
              "      <th>HIPERTENSION</th>\n",
              "      <th>OTRA_COM</th>\n",
              "      <th>CARDIOVASCULAR</th>\n",
              "      <th>OBESIDAD</th>\n",
              "      <th>RENAL_CRONICA</th>\n",
              "      <th>TABAQUISMO</th>\n",
              "      <th>OTRO_CASO</th>\n",
              "      <th>RESULTADO</th>\n",
              "      <th>MIGRANTE</th>\n",
              "      <th>PAIS_NACIONALIDAD</th>\n",
              "      <th>PAIS_ORIGEN</th>\n",
              "      <th>UCI</th>\n",
              "      <th>FALLECIDO</th>\n",
              "    </tr>\n",
              "    <tr>\n",
              "      <th>ID_REGISTRO</th>\n",
              "      <th></th>\n",
              "      <th></th>\n",
              "      <th></th>\n",
              "      <th></th>\n",
              "      <th></th>\n",
              "      <th></th>\n",
              "      <th></th>\n",
              "      <th></th>\n",
              "      <th></th>\n",
              "      <th></th>\n",
              "      <th></th>\n",
              "      <th></th>\n",
              "      <th></th>\n",
              "      <th></th>\n",
              "      <th></th>\n",
              "      <th></th>\n",
              "      <th></th>\n",
              "      <th></th>\n",
              "      <th></th>\n",
              "      <th></th>\n",
              "      <th></th>\n",
              "      <th></th>\n",
              "      <th></th>\n",
              "      <th></th>\n",
              "      <th></th>\n",
              "      <th></th>\n",
              "      <th></th>\n",
              "      <th></th>\n",
              "      <th></th>\n",
              "      <th></th>\n",
              "      <th></th>\n",
              "      <th></th>\n",
              "      <th></th>\n",
              "      <th></th>\n",
              "      <th></th>\n",
              "    </tr>\n",
              "  </thead>\n",
              "  <tbody>\n",
              "    <tr>\n",
              "      <th>0fb61f</th>\n",
              "      <td>2020-07-20</td>\n",
              "      <td>Fuera de USMER</td>\n",
              "      <td>IMSS</td>\n",
              "      <td>Yucatán</td>\n",
              "      <td>Hombre</td>\n",
              "      <td>Yucatán</td>\n",
              "      <td>Yucatán</td>\n",
              "      <td>Mérida</td>\n",
              "      <td>Ambulatorio</td>\n",
              "      <td>2020-04-15</td>\n",
              "      <td>2020-04-13</td>\n",
              "      <td>NaT</td>\n",
              "      <td>No aplica</td>\n",
              "      <td>No</td>\n",
              "      <td>30</td>\n",
              "      <td>Mexicana</td>\n",
              "      <td>No aplica</td>\n",
              "      <td>No</td>\n",
              "      <td>No</td>\n",
              "      <td>No</td>\n",
              "      <td>No</td>\n",
              "      <td>No</td>\n",
              "      <td>No</td>\n",
              "      <td>No</td>\n",
              "      <td>No</td>\n",
              "      <td>No</td>\n",
              "      <td>No</td>\n",
              "      <td>No</td>\n",
              "      <td>No especificado</td>\n",
              "      <td>Positivo SARS-CoV-2</td>\n",
              "      <td>No especificado</td>\n",
              "      <td>México</td>\n",
              "      <td>No Aplica</td>\n",
              "      <td>No aplica</td>\n",
              "      <td>False</td>\n",
              "    </tr>\n",
              "    <tr>\n",
              "      <th>14df1c</th>\n",
              "      <td>2020-07-20</td>\n",
              "      <td>Fuera de USMER</td>\n",
              "      <td>IMSS</td>\n",
              "      <td>Yucatán</td>\n",
              "      <td>Hombre</td>\n",
              "      <td>Yucatán</td>\n",
              "      <td>Yucatán</td>\n",
              "      <td>Umán</td>\n",
              "      <td>Ambulatorio</td>\n",
              "      <td>2020-04-23</td>\n",
              "      <td>2020-04-22</td>\n",
              "      <td>NaT</td>\n",
              "      <td>No aplica</td>\n",
              "      <td>No</td>\n",
              "      <td>27</td>\n",
              "      <td>Mexicana</td>\n",
              "      <td>No aplica</td>\n",
              "      <td>No</td>\n",
              "      <td>No</td>\n",
              "      <td>No</td>\n",
              "      <td>No</td>\n",
              "      <td>No</td>\n",
              "      <td>No</td>\n",
              "      <td>No</td>\n",
              "      <td>No</td>\n",
              "      <td>No</td>\n",
              "      <td>No</td>\n",
              "      <td>No</td>\n",
              "      <td>No especificado</td>\n",
              "      <td>Positivo SARS-CoV-2</td>\n",
              "      <td>No especificado</td>\n",
              "      <td>México</td>\n",
              "      <td>No Aplica</td>\n",
              "      <td>No aplica</td>\n",
              "      <td>False</td>\n",
              "    </tr>\n",
              "    <tr>\n",
              "      <th>0a5f73</th>\n",
              "      <td>2020-07-20</td>\n",
              "      <td>Fuera de USMER</td>\n",
              "      <td>IMSS</td>\n",
              "      <td>Yucatán</td>\n",
              "      <td>Hombre</td>\n",
              "      <td>Yucatán</td>\n",
              "      <td>Yucatán</td>\n",
              "      <td>Mérida</td>\n",
              "      <td>Ambulatorio</td>\n",
              "      <td>2020-04-30</td>\n",
              "      <td>2020-04-27</td>\n",
              "      <td>NaT</td>\n",
              "      <td>No aplica</td>\n",
              "      <td>No</td>\n",
              "      <td>39</td>\n",
              "      <td>Mexicana</td>\n",
              "      <td>No aplica</td>\n",
              "      <td>No</td>\n",
              "      <td>No</td>\n",
              "      <td>No</td>\n",
              "      <td>No</td>\n",
              "      <td>No</td>\n",
              "      <td>No</td>\n",
              "      <td>No</td>\n",
              "      <td>No</td>\n",
              "      <td>No</td>\n",
              "      <td>No</td>\n",
              "      <td>No</td>\n",
              "      <td>No especificado</td>\n",
              "      <td>Positivo SARS-CoV-2</td>\n",
              "      <td>No especificado</td>\n",
              "      <td>México</td>\n",
              "      <td>No Aplica</td>\n",
              "      <td>No aplica</td>\n",
              "      <td>False</td>\n",
              "    </tr>\n",
              "    <tr>\n",
              "      <th>132653</th>\n",
              "      <td>2020-07-20</td>\n",
              "      <td>Fuera de USMER</td>\n",
              "      <td>IMSS</td>\n",
              "      <td>Yucatán</td>\n",
              "      <td>Mujer</td>\n",
              "      <td>Yucatán</td>\n",
              "      <td>Yucatán</td>\n",
              "      <td>Mérida</td>\n",
              "      <td>Hospitalizado</td>\n",
              "      <td>2020-05-02</td>\n",
              "      <td>2020-04-25</td>\n",
              "      <td>NaT</td>\n",
              "      <td>No</td>\n",
              "      <td>No</td>\n",
              "      <td>48</td>\n",
              "      <td>Mexicana</td>\n",
              "      <td>No</td>\n",
              "      <td>No</td>\n",
              "      <td>No</td>\n",
              "      <td>No</td>\n",
              "      <td>No</td>\n",
              "      <td>No</td>\n",
              "      <td>No</td>\n",
              "      <td>No</td>\n",
              "      <td>No</td>\n",
              "      <td>No</td>\n",
              "      <td>No</td>\n",
              "      <td>No</td>\n",
              "      <td>No especificado</td>\n",
              "      <td>Positivo SARS-CoV-2</td>\n",
              "      <td>No especificado</td>\n",
              "      <td>México</td>\n",
              "      <td>No Aplica</td>\n",
              "      <td>No</td>\n",
              "      <td>False</td>\n",
              "    </tr>\n",
              "  </tbody>\n",
              "</table>\n",
              "</div>"
            ],
            "text/plain": [
              "            FECHA_ACTUALIZACION          ORIGEN  ...        UCI FALLECIDO\n",
              "ID_REGISTRO                                      ...                     \n",
              "0fb61f               2020-07-20  Fuera de USMER  ...  No aplica     False\n",
              "14df1c               2020-07-20  Fuera de USMER  ...  No aplica     False\n",
              "0a5f73               2020-07-20  Fuera de USMER  ...  No aplica     False\n",
              "132653               2020-07-20  Fuera de USMER  ...         No     False\n",
              "\n",
              "[4 rows x 35 columns]"
            ]
          },
          "metadata": {
            "tags": []
          },
          "execution_count": 16
        }
      ]
    },
    {
      "cell_type": "markdown",
      "metadata": {
        "id": "0QhKlG7Up1__",
        "colab_type": "text"
      },
      "source": [
        "<br>\n",
        "\n",
        "## Etapa 3. Análisis no supervisado - Cluster Analysis\n",
        "\n",
        "En esta parte se procede a realizar el análisis de los datos a partir de los clusters que es posible formar.\n",
        "El algoritmo de agrupamiento que se empleará para agrupar variables categóricas será el K-Modes y K-prototypes \n",
        "\n",
        "Este algoritmo define los grupos basados en el número de categorías coincidentes entre puntos de datos.\n",
        "*   El algoritmo k-prototypes : combina k-modes and k-means y es capaz de agrupar datos mixtos numéricos y categóricos.\n",
        "*   Los algoritmos implemendatos son:\n",
        "\n",
        "1.   k-modes [HUANG97] [HUANG98]\n",
        "2.   k-modes con inicializacion basados en densidad [CAO09]\n",
        "3.   k-prototypes [HUANG97]\n",
        "\n",
        "El código se basa en los algoritmos de agrupación en scikit-learn y tiene la misma interfaz. \n",
        "\n",
        "Emplearemos la aproximación de  Huang, Z .: \n",
        "*   Para la agrupación de grandes conjuntos de datos con valores numéricos y categóricos mixtos.\n",
        "\n",
        "***Proceedings of the First Pacific Asia Knowledge Discovery and Data Mining Conference, Singapore, pp. 21-34, 1997.***"
      ]
    },
    {
      "cell_type": "code",
      "metadata": {
        "id": "QLE_i7gNXFf8",
        "colab_type": "code",
        "colab": {}
      },
      "source": [
        "!pip install kmodes  # Instalacion de la libreria"
      ],
      "execution_count": null,
      "outputs": []
    },
    {
      "cell_type": "code",
      "metadata": {
        "id": "_YHNqfdCVt1k",
        "colab_type": "code",
        "colab": {}
      },
      "source": [
        "from kmodes.kprototypes import KPrototypes  # Llamado de la libreria kprototypes"
      ],
      "execution_count": null,
      "outputs": []
    },
    {
      "cell_type": "code",
      "metadata": {
        "id": "APeCZ3tWNSgs",
        "colab_type": "code",
        "colab": {
          "base_uri": "https://localhost:8080/",
          "height": 34
        },
        "outputId": "b8b1bde8-ce48-4639-e9d6-ede50ce5a83f"
      },
      "source": [
        "yucatan.columns\n",
        "yucatan.shape"
      ],
      "execution_count": null,
      "outputs": [
        {
          "output_type": "execute_result",
          "data": {
            "text/plain": [
              "(16100, 35)"
            ]
          },
          "metadata": {
            "tags": []
          },
          "execution_count": 18
        }
      ]
    },
    {
      "cell_type": "code",
      "metadata": {
        "id": "OcL8U0vTXthh",
        "colab_type": "code",
        "colab": {}
      },
      "source": [
        "yucatan.drop(['FECHA_ACTUALIZACION','ORIGEN','ENTIDAD_UM','SECTOR','ENTIDAD_NAC','ENTIDAD_RES','TIPO_PACIENTE','FECHA_INGRESO',\n",
        "                   'FECHA_SINTOMAS','FECHA_DEF','NACIONALIDAD','EMBARAZO','HABLA_LENGUA_INDIG','OTRO_CASO','MIGRANTE','PAIS_NACIONALIDAD','PAIS_ORIGEN',\n",
        "                   'INTUBADO','UCI','OTRA_COM','MUNICIPIO_RES'],axis=1, inplace=True)\n",
        "\n",
        "# Eiminamos las columnas de datos que no seran utilizadas"
      ],
      "execution_count": null,
      "outputs": []
    },
    {
      "cell_type": "code",
      "metadata": {
        "id": "bAJGWreerGF_",
        "colab_type": "code",
        "colab": {
          "base_uri": "https://localhost:8080/",
          "height": 431
        },
        "outputId": "0aa022dc-1cd6-4159-cac9-368585f77bd4"
      },
      "source": [
        "yucatan"
      ],
      "execution_count": null,
      "outputs": [
        {
          "output_type": "execute_result",
          "data": {
            "text/html": [
              "<div>\n",
              "<style scoped>\n",
              "    .dataframe tbody tr th:only-of-type {\n",
              "        vertical-align: middle;\n",
              "    }\n",
              "\n",
              "    .dataframe tbody tr th {\n",
              "        vertical-align: top;\n",
              "    }\n",
              "\n",
              "    .dataframe thead th {\n",
              "        text-align: right;\n",
              "    }\n",
              "</style>\n",
              "<table border=\"1\" class=\"dataframe\">\n",
              "  <thead>\n",
              "    <tr style=\"text-align: right;\">\n",
              "      <th></th>\n",
              "      <th>SEXO</th>\n",
              "      <th>NEUMONIA</th>\n",
              "      <th>EDAD</th>\n",
              "      <th>DIABETES</th>\n",
              "      <th>EPOC</th>\n",
              "      <th>ASMA</th>\n",
              "      <th>INMUSUPR</th>\n",
              "      <th>HIPERTENSION</th>\n",
              "      <th>CARDIOVASCULAR</th>\n",
              "      <th>OBESIDAD</th>\n",
              "      <th>RENAL_CRONICA</th>\n",
              "      <th>TABAQUISMO</th>\n",
              "      <th>RESULTADO</th>\n",
              "      <th>FALLECIDO</th>\n",
              "    </tr>\n",
              "    <tr>\n",
              "      <th>ID_REGISTRO</th>\n",
              "      <th></th>\n",
              "      <th></th>\n",
              "      <th></th>\n",
              "      <th></th>\n",
              "      <th></th>\n",
              "      <th></th>\n",
              "      <th></th>\n",
              "      <th></th>\n",
              "      <th></th>\n",
              "      <th></th>\n",
              "      <th></th>\n",
              "      <th></th>\n",
              "      <th></th>\n",
              "      <th></th>\n",
              "    </tr>\n",
              "  </thead>\n",
              "  <tbody>\n",
              "    <tr>\n",
              "      <th>0fb61f</th>\n",
              "      <td>Hombre</td>\n",
              "      <td>No</td>\n",
              "      <td>30</td>\n",
              "      <td>No</td>\n",
              "      <td>No</td>\n",
              "      <td>No</td>\n",
              "      <td>No</td>\n",
              "      <td>No</td>\n",
              "      <td>No</td>\n",
              "      <td>No</td>\n",
              "      <td>No</td>\n",
              "      <td>No</td>\n",
              "      <td>Positivo SARS-CoV-2</td>\n",
              "      <td>False</td>\n",
              "    </tr>\n",
              "    <tr>\n",
              "      <th>14df1c</th>\n",
              "      <td>Hombre</td>\n",
              "      <td>No</td>\n",
              "      <td>27</td>\n",
              "      <td>No</td>\n",
              "      <td>No</td>\n",
              "      <td>No</td>\n",
              "      <td>No</td>\n",
              "      <td>No</td>\n",
              "      <td>No</td>\n",
              "      <td>No</td>\n",
              "      <td>No</td>\n",
              "      <td>No</td>\n",
              "      <td>Positivo SARS-CoV-2</td>\n",
              "      <td>False</td>\n",
              "    </tr>\n",
              "    <tr>\n",
              "      <th>0a5f73</th>\n",
              "      <td>Hombre</td>\n",
              "      <td>No</td>\n",
              "      <td>39</td>\n",
              "      <td>No</td>\n",
              "      <td>No</td>\n",
              "      <td>No</td>\n",
              "      <td>No</td>\n",
              "      <td>No</td>\n",
              "      <td>No</td>\n",
              "      <td>No</td>\n",
              "      <td>No</td>\n",
              "      <td>No</td>\n",
              "      <td>Positivo SARS-CoV-2</td>\n",
              "      <td>False</td>\n",
              "    </tr>\n",
              "    <tr>\n",
              "      <th>132653</th>\n",
              "      <td>Mujer</td>\n",
              "      <td>No</td>\n",
              "      <td>48</td>\n",
              "      <td>No</td>\n",
              "      <td>No</td>\n",
              "      <td>No</td>\n",
              "      <td>No</td>\n",
              "      <td>No</td>\n",
              "      <td>No</td>\n",
              "      <td>No</td>\n",
              "      <td>No</td>\n",
              "      <td>No</td>\n",
              "      <td>Positivo SARS-CoV-2</td>\n",
              "      <td>False</td>\n",
              "    </tr>\n",
              "    <tr>\n",
              "      <th>05705c</th>\n",
              "      <td>Hombre</td>\n",
              "      <td>No</td>\n",
              "      <td>54</td>\n",
              "      <td>No</td>\n",
              "      <td>No</td>\n",
              "      <td>No</td>\n",
              "      <td>No</td>\n",
              "      <td>No</td>\n",
              "      <td>No</td>\n",
              "      <td>No</td>\n",
              "      <td>No</td>\n",
              "      <td>No</td>\n",
              "      <td>Positivo SARS-CoV-2</td>\n",
              "      <td>False</td>\n",
              "    </tr>\n",
              "    <tr>\n",
              "      <th>...</th>\n",
              "      <td>...</td>\n",
              "      <td>...</td>\n",
              "      <td>...</td>\n",
              "      <td>...</td>\n",
              "      <td>...</td>\n",
              "      <td>...</td>\n",
              "      <td>...</td>\n",
              "      <td>...</td>\n",
              "      <td>...</td>\n",
              "      <td>...</td>\n",
              "      <td>...</td>\n",
              "      <td>...</td>\n",
              "      <td>...</td>\n",
              "      <td>...</td>\n",
              "    </tr>\n",
              "    <tr>\n",
              "      <th>06d42f</th>\n",
              "      <td>Mujer</td>\n",
              "      <td>No</td>\n",
              "      <td>28</td>\n",
              "      <td>No</td>\n",
              "      <td>No</td>\n",
              "      <td>Sí</td>\n",
              "      <td>No</td>\n",
              "      <td>No</td>\n",
              "      <td>No</td>\n",
              "      <td>No</td>\n",
              "      <td>No</td>\n",
              "      <td>No</td>\n",
              "      <td>Resultado Pendiente</td>\n",
              "      <td>False</td>\n",
              "    </tr>\n",
              "    <tr>\n",
              "      <th>0ada01</th>\n",
              "      <td>Hombre</td>\n",
              "      <td>No</td>\n",
              "      <td>52</td>\n",
              "      <td>No</td>\n",
              "      <td>No</td>\n",
              "      <td>No</td>\n",
              "      <td>No</td>\n",
              "      <td>No</td>\n",
              "      <td>No</td>\n",
              "      <td>No</td>\n",
              "      <td>No</td>\n",
              "      <td>No</td>\n",
              "      <td>Resultado Pendiente</td>\n",
              "      <td>False</td>\n",
              "    </tr>\n",
              "    <tr>\n",
              "      <th>0e7146</th>\n",
              "      <td>Hombre</td>\n",
              "      <td>No</td>\n",
              "      <td>49</td>\n",
              "      <td>No</td>\n",
              "      <td>No</td>\n",
              "      <td>No</td>\n",
              "      <td>No</td>\n",
              "      <td>No</td>\n",
              "      <td>No</td>\n",
              "      <td>No</td>\n",
              "      <td>No</td>\n",
              "      <td>No</td>\n",
              "      <td>Resultado Pendiente</td>\n",
              "      <td>False</td>\n",
              "    </tr>\n",
              "    <tr>\n",
              "      <th>0e5e90</th>\n",
              "      <td>Mujer</td>\n",
              "      <td>Sí</td>\n",
              "      <td>84</td>\n",
              "      <td>No</td>\n",
              "      <td>Sí</td>\n",
              "      <td>No</td>\n",
              "      <td>No</td>\n",
              "      <td>No</td>\n",
              "      <td>Sí</td>\n",
              "      <td>No</td>\n",
              "      <td>No</td>\n",
              "      <td>Sí</td>\n",
              "      <td>Resultado Pendiente</td>\n",
              "      <td>False</td>\n",
              "    </tr>\n",
              "    <tr>\n",
              "      <th>108d4f</th>\n",
              "      <td>Hombre</td>\n",
              "      <td>No</td>\n",
              "      <td>40</td>\n",
              "      <td>No</td>\n",
              "      <td>No</td>\n",
              "      <td>No</td>\n",
              "      <td>No</td>\n",
              "      <td>No</td>\n",
              "      <td>No</td>\n",
              "      <td>No</td>\n",
              "      <td>No</td>\n",
              "      <td>No</td>\n",
              "      <td>Resultado Pendiente</td>\n",
              "      <td>False</td>\n",
              "    </tr>\n",
              "  </tbody>\n",
              "</table>\n",
              "<p>16100 rows × 14 columns</p>\n",
              "</div>"
            ],
            "text/plain": [
              "               SEXO NEUMONIA  EDAD  ... TABAQUISMO            RESULTADO FALLECIDO\n",
              "ID_REGISTRO                         ...                                          \n",
              "0fb61f       Hombre       No    30  ...         No  Positivo SARS-CoV-2     False\n",
              "14df1c       Hombre       No    27  ...         No  Positivo SARS-CoV-2     False\n",
              "0a5f73       Hombre       No    39  ...         No  Positivo SARS-CoV-2     False\n",
              "132653        Mujer       No    48  ...         No  Positivo SARS-CoV-2     False\n",
              "05705c       Hombre       No    54  ...         No  Positivo SARS-CoV-2     False\n",
              "...             ...      ...   ...  ...        ...                  ...       ...\n",
              "06d42f        Mujer       No    28  ...         No  Resultado Pendiente     False\n",
              "0ada01       Hombre       No    52  ...         No  Resultado Pendiente     False\n",
              "0e7146       Hombre       No    49  ...         No  Resultado Pendiente     False\n",
              "0e5e90        Mujer       Sí    84  ...         Sí  Resultado Pendiente     False\n",
              "108d4f       Hombre       No    40  ...         No  Resultado Pendiente     False\n",
              "\n",
              "[16100 rows x 14 columns]"
            ]
          },
          "metadata": {
            "tags": []
          },
          "execution_count": 20
        }
      ]
    },
    {
      "cell_type": "code",
      "metadata": {
        "id": "9hh9yhdBfYLe",
        "colab_type": "code",
        "colab": {
          "base_uri": "https://localhost:8080/",
          "height": 431
        },
        "outputId": "355c66c6-43f8-48e8-f8e3-45847368f0d8"
      },
      "source": [
        "df = yucatan[yucatan.RESULTADO.eq('Positivo SARS-CoV-2')] # Seleccionamos solo los casos positivos\n",
        "df = df[df.SEXO.eq('Mujer')]   # Comenzamos haciendo el analisis de cluster solo para mujeres primero\n",
        "df"
      ],
      "execution_count": null,
      "outputs": [
        {
          "output_type": "execute_result",
          "data": {
            "text/html": [
              "<div>\n",
              "<style scoped>\n",
              "    .dataframe tbody tr th:only-of-type {\n",
              "        vertical-align: middle;\n",
              "    }\n",
              "\n",
              "    .dataframe tbody tr th {\n",
              "        vertical-align: top;\n",
              "    }\n",
              "\n",
              "    .dataframe thead th {\n",
              "        text-align: right;\n",
              "    }\n",
              "</style>\n",
              "<table border=\"1\" class=\"dataframe\">\n",
              "  <thead>\n",
              "    <tr style=\"text-align: right;\">\n",
              "      <th></th>\n",
              "      <th>SEXO</th>\n",
              "      <th>NEUMONIA</th>\n",
              "      <th>EDAD</th>\n",
              "      <th>DIABETES</th>\n",
              "      <th>EPOC</th>\n",
              "      <th>ASMA</th>\n",
              "      <th>INMUSUPR</th>\n",
              "      <th>HIPERTENSION</th>\n",
              "      <th>CARDIOVASCULAR</th>\n",
              "      <th>OBESIDAD</th>\n",
              "      <th>RENAL_CRONICA</th>\n",
              "      <th>TABAQUISMO</th>\n",
              "      <th>RESULTADO</th>\n",
              "      <th>FALLECIDO</th>\n",
              "    </tr>\n",
              "    <tr>\n",
              "      <th>ID_REGISTRO</th>\n",
              "      <th></th>\n",
              "      <th></th>\n",
              "      <th></th>\n",
              "      <th></th>\n",
              "      <th></th>\n",
              "      <th></th>\n",
              "      <th></th>\n",
              "      <th></th>\n",
              "      <th></th>\n",
              "      <th></th>\n",
              "      <th></th>\n",
              "      <th></th>\n",
              "      <th></th>\n",
              "      <th></th>\n",
              "    </tr>\n",
              "  </thead>\n",
              "  <tbody>\n",
              "    <tr>\n",
              "      <th>132653</th>\n",
              "      <td>Mujer</td>\n",
              "      <td>No</td>\n",
              "      <td>48</td>\n",
              "      <td>No</td>\n",
              "      <td>No</td>\n",
              "      <td>No</td>\n",
              "      <td>No</td>\n",
              "      <td>No</td>\n",
              "      <td>No</td>\n",
              "      <td>No</td>\n",
              "      <td>No</td>\n",
              "      <td>No</td>\n",
              "      <td>Positivo SARS-CoV-2</td>\n",
              "      <td>False</td>\n",
              "    </tr>\n",
              "    <tr>\n",
              "      <th>1a986f</th>\n",
              "      <td>Mujer</td>\n",
              "      <td>No</td>\n",
              "      <td>37</td>\n",
              "      <td>No</td>\n",
              "      <td>No</td>\n",
              "      <td>No</td>\n",
              "      <td>No</td>\n",
              "      <td>No</td>\n",
              "      <td>No</td>\n",
              "      <td>No</td>\n",
              "      <td>No</td>\n",
              "      <td>No</td>\n",
              "      <td>Positivo SARS-CoV-2</td>\n",
              "      <td>False</td>\n",
              "    </tr>\n",
              "    <tr>\n",
              "      <th>1629a8</th>\n",
              "      <td>Mujer</td>\n",
              "      <td>No</td>\n",
              "      <td>37</td>\n",
              "      <td>No</td>\n",
              "      <td>No</td>\n",
              "      <td>No</td>\n",
              "      <td>No</td>\n",
              "      <td>No</td>\n",
              "      <td>No</td>\n",
              "      <td>No</td>\n",
              "      <td>No</td>\n",
              "      <td>No</td>\n",
              "      <td>Positivo SARS-CoV-2</td>\n",
              "      <td>False</td>\n",
              "    </tr>\n",
              "    <tr>\n",
              "      <th>010db3</th>\n",
              "      <td>Mujer</td>\n",
              "      <td>No</td>\n",
              "      <td>37</td>\n",
              "      <td>No</td>\n",
              "      <td>No</td>\n",
              "      <td>No</td>\n",
              "      <td>No</td>\n",
              "      <td>No</td>\n",
              "      <td>No</td>\n",
              "      <td>No</td>\n",
              "      <td>No</td>\n",
              "      <td>No</td>\n",
              "      <td>Positivo SARS-CoV-2</td>\n",
              "      <td>False</td>\n",
              "    </tr>\n",
              "    <tr>\n",
              "      <th>042aeb</th>\n",
              "      <td>Mujer</td>\n",
              "      <td>No</td>\n",
              "      <td>46</td>\n",
              "      <td>No</td>\n",
              "      <td>No</td>\n",
              "      <td>No</td>\n",
              "      <td>No</td>\n",
              "      <td>No</td>\n",
              "      <td>No</td>\n",
              "      <td>No</td>\n",
              "      <td>No</td>\n",
              "      <td>No</td>\n",
              "      <td>Positivo SARS-CoV-2</td>\n",
              "      <td>False</td>\n",
              "    </tr>\n",
              "    <tr>\n",
              "      <th>...</th>\n",
              "      <td>...</td>\n",
              "      <td>...</td>\n",
              "      <td>...</td>\n",
              "      <td>...</td>\n",
              "      <td>...</td>\n",
              "      <td>...</td>\n",
              "      <td>...</td>\n",
              "      <td>...</td>\n",
              "      <td>...</td>\n",
              "      <td>...</td>\n",
              "      <td>...</td>\n",
              "      <td>...</td>\n",
              "      <td>...</td>\n",
              "      <td>...</td>\n",
              "    </tr>\n",
              "    <tr>\n",
              "      <th>128278</th>\n",
              "      <td>Mujer</td>\n",
              "      <td>No</td>\n",
              "      <td>47</td>\n",
              "      <td>No</td>\n",
              "      <td>No</td>\n",
              "      <td>No</td>\n",
              "      <td>No</td>\n",
              "      <td>No</td>\n",
              "      <td>No</td>\n",
              "      <td>No</td>\n",
              "      <td>No</td>\n",
              "      <td>No</td>\n",
              "      <td>Positivo SARS-CoV-2</td>\n",
              "      <td>False</td>\n",
              "    </tr>\n",
              "    <tr>\n",
              "      <th>09f7ce</th>\n",
              "      <td>Mujer</td>\n",
              "      <td>No</td>\n",
              "      <td>8</td>\n",
              "      <td>No</td>\n",
              "      <td>No</td>\n",
              "      <td>No</td>\n",
              "      <td>No</td>\n",
              "      <td>No</td>\n",
              "      <td>No</td>\n",
              "      <td>No</td>\n",
              "      <td>No</td>\n",
              "      <td>No</td>\n",
              "      <td>Positivo SARS-CoV-2</td>\n",
              "      <td>False</td>\n",
              "    </tr>\n",
              "    <tr>\n",
              "      <th>11870b</th>\n",
              "      <td>Mujer</td>\n",
              "      <td>No</td>\n",
              "      <td>37</td>\n",
              "      <td>No</td>\n",
              "      <td>No</td>\n",
              "      <td>Sí</td>\n",
              "      <td>No</td>\n",
              "      <td>Sí</td>\n",
              "      <td>No</td>\n",
              "      <td>Sí</td>\n",
              "      <td>No</td>\n",
              "      <td>No</td>\n",
              "      <td>Positivo SARS-CoV-2</td>\n",
              "      <td>False</td>\n",
              "    </tr>\n",
              "    <tr>\n",
              "      <th>1e3337</th>\n",
              "      <td>Mujer</td>\n",
              "      <td>No</td>\n",
              "      <td>36</td>\n",
              "      <td>No</td>\n",
              "      <td>No</td>\n",
              "      <td>No</td>\n",
              "      <td>No</td>\n",
              "      <td>No</td>\n",
              "      <td>No</td>\n",
              "      <td>Sí</td>\n",
              "      <td>No</td>\n",
              "      <td>No</td>\n",
              "      <td>Positivo SARS-CoV-2</td>\n",
              "      <td>False</td>\n",
              "    </tr>\n",
              "    <tr>\n",
              "      <th>0620cf</th>\n",
              "      <td>Mujer</td>\n",
              "      <td>No</td>\n",
              "      <td>27</td>\n",
              "      <td>No</td>\n",
              "      <td>No</td>\n",
              "      <td>No</td>\n",
              "      <td>No</td>\n",
              "      <td>No</td>\n",
              "      <td>No</td>\n",
              "      <td>Sí</td>\n",
              "      <td>No</td>\n",
              "      <td>No</td>\n",
              "      <td>Positivo SARS-CoV-2</td>\n",
              "      <td>False</td>\n",
              "    </tr>\n",
              "  </tbody>\n",
              "</table>\n",
              "<p>3087 rows × 14 columns</p>\n",
              "</div>"
            ],
            "text/plain": [
              "              SEXO NEUMONIA  EDAD  ... TABAQUISMO            RESULTADO FALLECIDO\n",
              "ID_REGISTRO                        ...                                          \n",
              "132653       Mujer       No    48  ...         No  Positivo SARS-CoV-2     False\n",
              "1a986f       Mujer       No    37  ...         No  Positivo SARS-CoV-2     False\n",
              "1629a8       Mujer       No    37  ...         No  Positivo SARS-CoV-2     False\n",
              "010db3       Mujer       No    37  ...         No  Positivo SARS-CoV-2     False\n",
              "042aeb       Mujer       No    46  ...         No  Positivo SARS-CoV-2     False\n",
              "...            ...      ...   ...  ...        ...                  ...       ...\n",
              "128278       Mujer       No    47  ...         No  Positivo SARS-CoV-2     False\n",
              "09f7ce       Mujer       No     8  ...         No  Positivo SARS-CoV-2     False\n",
              "11870b       Mujer       No    37  ...         No  Positivo SARS-CoV-2     False\n",
              "1e3337       Mujer       No    36  ...         No  Positivo SARS-CoV-2     False\n",
              "0620cf       Mujer       No    27  ...         No  Positivo SARS-CoV-2     False\n",
              "\n",
              "[3087 rows x 14 columns]"
            ]
          },
          "metadata": {
            "tags": []
          },
          "execution_count": 21
        }
      ]
    },
    {
      "cell_type": "code",
      "metadata": {
        "id": "eCj_wyg2pw5F",
        "colab_type": "code",
        "colab": {}
      },
      "source": [
        "df.drop(['FALLECIDO','RESULTADO','INMUSUPR','SEXO','RENAL_CRONICA'],axis=1, inplace=True) # Se dejan solo las columnas con Comorbilidades para el analisis de clusters"
      ],
      "execution_count": null,
      "outputs": []
    },
    {
      "cell_type": "code",
      "metadata": {
        "id": "f1WK5jaZqIyo",
        "colab_type": "code",
        "colab": {
          "base_uri": "https://localhost:8080/",
          "height": 431
        },
        "outputId": "92d5c52c-968b-4aee-f450-889cbd57a500"
      },
      "source": [
        "df # Data frame FINAL solo con Comorbilidades para analisis de clusters"
      ],
      "execution_count": null,
      "outputs": [
        {
          "output_type": "execute_result",
          "data": {
            "text/html": [
              "<div>\n",
              "<style scoped>\n",
              "    .dataframe tbody tr th:only-of-type {\n",
              "        vertical-align: middle;\n",
              "    }\n",
              "\n",
              "    .dataframe tbody tr th {\n",
              "        vertical-align: top;\n",
              "    }\n",
              "\n",
              "    .dataframe thead th {\n",
              "        text-align: right;\n",
              "    }\n",
              "</style>\n",
              "<table border=\"1\" class=\"dataframe\">\n",
              "  <thead>\n",
              "    <tr style=\"text-align: right;\">\n",
              "      <th></th>\n",
              "      <th>NEUMONIA</th>\n",
              "      <th>EDAD</th>\n",
              "      <th>DIABETES</th>\n",
              "      <th>EPOC</th>\n",
              "      <th>ASMA</th>\n",
              "      <th>HIPERTENSION</th>\n",
              "      <th>CARDIOVASCULAR</th>\n",
              "      <th>OBESIDAD</th>\n",
              "      <th>TABAQUISMO</th>\n",
              "    </tr>\n",
              "    <tr>\n",
              "      <th>ID_REGISTRO</th>\n",
              "      <th></th>\n",
              "      <th></th>\n",
              "      <th></th>\n",
              "      <th></th>\n",
              "      <th></th>\n",
              "      <th></th>\n",
              "      <th></th>\n",
              "      <th></th>\n",
              "      <th></th>\n",
              "    </tr>\n",
              "  </thead>\n",
              "  <tbody>\n",
              "    <tr>\n",
              "      <th>132653</th>\n",
              "      <td>No</td>\n",
              "      <td>48</td>\n",
              "      <td>No</td>\n",
              "      <td>No</td>\n",
              "      <td>No</td>\n",
              "      <td>No</td>\n",
              "      <td>No</td>\n",
              "      <td>No</td>\n",
              "      <td>No</td>\n",
              "    </tr>\n",
              "    <tr>\n",
              "      <th>1a986f</th>\n",
              "      <td>No</td>\n",
              "      <td>37</td>\n",
              "      <td>No</td>\n",
              "      <td>No</td>\n",
              "      <td>No</td>\n",
              "      <td>No</td>\n",
              "      <td>No</td>\n",
              "      <td>No</td>\n",
              "      <td>No</td>\n",
              "    </tr>\n",
              "    <tr>\n",
              "      <th>1629a8</th>\n",
              "      <td>No</td>\n",
              "      <td>37</td>\n",
              "      <td>No</td>\n",
              "      <td>No</td>\n",
              "      <td>No</td>\n",
              "      <td>No</td>\n",
              "      <td>No</td>\n",
              "      <td>No</td>\n",
              "      <td>No</td>\n",
              "    </tr>\n",
              "    <tr>\n",
              "      <th>010db3</th>\n",
              "      <td>No</td>\n",
              "      <td>37</td>\n",
              "      <td>No</td>\n",
              "      <td>No</td>\n",
              "      <td>No</td>\n",
              "      <td>No</td>\n",
              "      <td>No</td>\n",
              "      <td>No</td>\n",
              "      <td>No</td>\n",
              "    </tr>\n",
              "    <tr>\n",
              "      <th>042aeb</th>\n",
              "      <td>No</td>\n",
              "      <td>46</td>\n",
              "      <td>No</td>\n",
              "      <td>No</td>\n",
              "      <td>No</td>\n",
              "      <td>No</td>\n",
              "      <td>No</td>\n",
              "      <td>No</td>\n",
              "      <td>No</td>\n",
              "    </tr>\n",
              "    <tr>\n",
              "      <th>...</th>\n",
              "      <td>...</td>\n",
              "      <td>...</td>\n",
              "      <td>...</td>\n",
              "      <td>...</td>\n",
              "      <td>...</td>\n",
              "      <td>...</td>\n",
              "      <td>...</td>\n",
              "      <td>...</td>\n",
              "      <td>...</td>\n",
              "    </tr>\n",
              "    <tr>\n",
              "      <th>128278</th>\n",
              "      <td>No</td>\n",
              "      <td>47</td>\n",
              "      <td>No</td>\n",
              "      <td>No</td>\n",
              "      <td>No</td>\n",
              "      <td>No</td>\n",
              "      <td>No</td>\n",
              "      <td>No</td>\n",
              "      <td>No</td>\n",
              "    </tr>\n",
              "    <tr>\n",
              "      <th>09f7ce</th>\n",
              "      <td>No</td>\n",
              "      <td>8</td>\n",
              "      <td>No</td>\n",
              "      <td>No</td>\n",
              "      <td>No</td>\n",
              "      <td>No</td>\n",
              "      <td>No</td>\n",
              "      <td>No</td>\n",
              "      <td>No</td>\n",
              "    </tr>\n",
              "    <tr>\n",
              "      <th>11870b</th>\n",
              "      <td>No</td>\n",
              "      <td>37</td>\n",
              "      <td>No</td>\n",
              "      <td>No</td>\n",
              "      <td>Sí</td>\n",
              "      <td>Sí</td>\n",
              "      <td>No</td>\n",
              "      <td>Sí</td>\n",
              "      <td>No</td>\n",
              "    </tr>\n",
              "    <tr>\n",
              "      <th>1e3337</th>\n",
              "      <td>No</td>\n",
              "      <td>36</td>\n",
              "      <td>No</td>\n",
              "      <td>No</td>\n",
              "      <td>No</td>\n",
              "      <td>No</td>\n",
              "      <td>No</td>\n",
              "      <td>Sí</td>\n",
              "      <td>No</td>\n",
              "    </tr>\n",
              "    <tr>\n",
              "      <th>0620cf</th>\n",
              "      <td>No</td>\n",
              "      <td>27</td>\n",
              "      <td>No</td>\n",
              "      <td>No</td>\n",
              "      <td>No</td>\n",
              "      <td>No</td>\n",
              "      <td>No</td>\n",
              "      <td>Sí</td>\n",
              "      <td>No</td>\n",
              "    </tr>\n",
              "  </tbody>\n",
              "</table>\n",
              "<p>3087 rows × 9 columns</p>\n",
              "</div>"
            ],
            "text/plain": [
              "            NEUMONIA  EDAD DIABETES  ... CARDIOVASCULAR OBESIDAD TABAQUISMO\n",
              "ID_REGISTRO                          ...                                   \n",
              "132653            No    48       No  ...             No       No         No\n",
              "1a986f            No    37       No  ...             No       No         No\n",
              "1629a8            No    37       No  ...             No       No         No\n",
              "010db3            No    37       No  ...             No       No         No\n",
              "042aeb            No    46       No  ...             No       No         No\n",
              "...              ...   ...      ...  ...            ...      ...        ...\n",
              "128278            No    47       No  ...             No       No         No\n",
              "09f7ce            No     8       No  ...             No       No         No\n",
              "11870b            No    37       No  ...             No       Sí         No\n",
              "1e3337            No    36       No  ...             No       Sí         No\n",
              "0620cf            No    27       No  ...             No       Sí         No\n",
              "\n",
              "[3087 rows x 9 columns]"
            ]
          },
          "metadata": {
            "tags": []
          },
          "execution_count": 27
        }
      ]
    },
    {
      "cell_type": "code",
      "metadata": {
        "id": "K9WCN9PllgBJ",
        "colab_type": "code",
        "colab": {
          "base_uri": "https://localhost:8080/",
          "height": 134
        },
        "outputId": "d2e8d162-09b7-4241-ebb7-c38540f64a5b"
      },
      "source": [
        "mark_array = df.values  # Hacemos un arreglo para el analisis\n",
        "mark_array"
      ],
      "execution_count": null,
      "outputs": [
        {
          "output_type": "execute_result",
          "data": {
            "text/plain": [
              "array([['No', 48, 'No', ..., 'No', 'No', 'No'],\n",
              "       ['No', 37, 'No', ..., 'No', 'No', 'No'],\n",
              "       ['No', 37, 'No', ..., 'No', 'No', 'No'],\n",
              "       ...,\n",
              "       ['No', 37, 'No', ..., 'No', 'Sí', 'No'],\n",
              "       ['No', 36, 'No', ..., 'No', 'Sí', 'No'],\n",
              "       ['No', 27, 'No', ..., 'No', 'Sí', 'No']], dtype=object)"
            ]
          },
          "metadata": {
            "tags": []
          },
          "execution_count": 24
        }
      ]
    },
    {
      "cell_type": "code",
      "metadata": {
        "id": "i9-YjroXmy2R",
        "colab_type": "code",
        "colab": {
          "base_uri": "https://localhost:8080/",
          "height": 134
        },
        "outputId": "1d91083a-e7be-4d5e-8eba-77245e927909"
      },
      "source": [
        "mark_array[:, 1] = mark_array[:, 1].astype(float)  # convertimos a variables numericas de punto flotante para el analisis\n",
        "mark_array"
      ],
      "execution_count": null,
      "outputs": [
        {
          "output_type": "execute_result",
          "data": {
            "text/plain": [
              "array([['No', 48.0, 'No', ..., 'No', 'No', 'No'],\n",
              "       ['No', 37.0, 'No', ..., 'No', 'No', 'No'],\n",
              "       ['No', 37.0, 'No', ..., 'No', 'No', 'No'],\n",
              "       ...,\n",
              "       ['No', 37.0, 'No', ..., 'No', 'Sí', 'No'],\n",
              "       ['No', 36.0, 'No', ..., 'No', 'Sí', 'No'],\n",
              "       ['No', 27.0, 'No', ..., 'No', 'Sí', 'No']], dtype=object)"
            ]
          },
          "metadata": {
            "tags": []
          },
          "execution_count": 26
        }
      ]
    },
    {
      "cell_type": "code",
      "metadata": {
        "id": "MHQcRNwjBZNT",
        "colab_type": "code",
        "colab": {
          "base_uri": "https://localhost:8080/",
          "height": 1000
        },
        "outputId": "88d9167c-ee43-4faf-e4eb-dd5071f0b588"
      },
      "source": [
        "kproto = KPrototypes(n_clusters=3, verbose=2,max_iter=20)    # Comenzamos el analisis proponiendo 3 clusters\n",
        "\n",
        "clusters = kproto.fit_predict(mark_array, categorical=[0, 2, 3, 4, 5,6,7,8])   # Declaramos las variables categoricas y las numericas y arrancamos el analisis \n",
        "# con 20 iteraciones maximo"
      ],
      "execution_count": null,
      "outputs": [
        {
          "output_type": "stream",
          "text": [
            "Init: initializing centroids\n",
            "Init: initializing clusters\n",
            "Starting iterations...\n",
            "Run: 1, iteration: 1/20, moves: 824, ncost: 209257.60138282247\n",
            "Run: 1, iteration: 2/20, moves: 387, ncost: 186193.22479386223\n",
            "Run: 1, iteration: 3/20, moves: 259, ncost: 177914.82142681626\n",
            "Run: 1, iteration: 4/20, moves: 151, ncost: 175225.7705279941\n",
            "Run: 1, iteration: 5/20, moves: 75, ncost: 174568.49657744763\n",
            "Run: 1, iteration: 6/20, moves: 13, ncost: 174521.44269122218\n",
            "Run: 1, iteration: 7/20, moves: 0, ncost: 174521.44269122218\n",
            "Init: initializing centroids\n",
            "Init: initializing clusters\n",
            "Starting iterations...\n",
            "Run: 2, iteration: 1/20, moves: 1242, ncost: 299543.4300239218\n",
            "Run: 2, iteration: 2/20, moves: 549, ncost: 240231.83875797695\n",
            "Run: 2, iteration: 3/20, moves: 367, ncost: 215739.93805672874\n",
            "Run: 2, iteration: 4/20, moves: 402, ncost: 193006.0588056011\n",
            "Run: 2, iteration: 5/20, moves: 329, ncost: 180328.65721072382\n",
            "Run: 2, iteration: 6/20, moves: 195, ncost: 175930.0073648847\n",
            "Run: 2, iteration: 7/20, moves: 100, ncost: 174678.27436270344\n",
            "Run: 2, iteration: 8/20, moves: 36, ncost: 174525.9302021362\n",
            "Run: 2, iteration: 9/20, moves: 4, ncost: 174521.44269122218\n",
            "Run: 2, iteration: 10/20, moves: 0, ncost: 174521.44269122218\n",
            "Init: initializing centroids\n",
            "Init: initializing clusters\n",
            "Starting iterations...\n",
            "Run: 3, iteration: 1/20, moves: 221, ncost: 175163.6751218191\n",
            "Run: 3, iteration: 2/20, moves: 68, ncost: 174575.97154778556\n",
            "Run: 3, iteration: 3/20, moves: 14, ncost: 174521.44269122218\n",
            "Run: 3, iteration: 4/20, moves: 0, ncost: 174521.44269122218\n",
            "Init: initializing centroids\n",
            "Init: initializing clusters\n",
            "Starting iterations...\n",
            "Run: 4, iteration: 1/20, moves: 264, ncost: 227318.91298038038\n",
            "Run: 4, iteration: 2/20, moves: 358, ncost: 204029.69801999867\n",
            "Run: 4, iteration: 3/20, moves: 361, ncost: 186723.63532444357\n",
            "Run: 4, iteration: 4/20, moves: 267, ncost: 178312.32287024378\n",
            "Run: 4, iteration: 5/20, moves: 152, ncost: 175447.64005180955\n",
            "Run: 4, iteration: 6/20, moves: 84, ncost: 174592.5545461206\n",
            "Run: 4, iteration: 7/20, moves: 16, ncost: 174521.44269122218\n",
            "Run: 4, iteration: 8/20, moves: 0, ncost: 174521.44269122218\n",
            "Init: initializing centroids\n",
            "Init: initializing clusters\n",
            "Starting iterations...\n",
            "Run: 5, iteration: 1/20, moves: 536, ncost: 188814.33538642834\n",
            "Run: 5, iteration: 2/20, moves: 276, ncost: 179135.69201551404\n",
            "Run: 5, iteration: 3/20, moves: 170, ncost: 175656.6647924322\n",
            "Run: 5, iteration: 4/20, moves: 94, ncost: 174592.5545461206\n",
            "Run: 5, iteration: 5/20, moves: 16, ncost: 174521.44269122218\n",
            "Run: 5, iteration: 6/20, moves: 0, ncost: 174521.44269122218\n",
            "Init: initializing centroids\n",
            "Init: initializing clusters\n",
            "Starting iterations...\n",
            "Run: 6, iteration: 1/20, moves: 779, ncost: 186254.218168455\n",
            "Run: 6, iteration: 2/20, moves: 227, ncost: 179008.53181260178\n",
            "Run: 6, iteration: 3/20, moves: 118, ncost: 176882.25134312865\n",
            "Run: 6, iteration: 4/20, moves: 57, ncost: 176387.52887589874\n",
            "Run: 6, iteration: 5/20, moves: 4, ncost: 176382.95565375994\n",
            "Run: 6, iteration: 6/20, moves: 0, ncost: 176382.95565375994\n",
            "Init: initializing centroids\n",
            "Init: initializing clusters\n",
            "Starting iterations...\n",
            "Run: 7, iteration: 1/20, moves: 659, ncost: 175732.82610651662\n",
            "Run: 7, iteration: 2/20, moves: 121, ncost: 174968.9208617535\n",
            "Run: 7, iteration: 3/20, moves: 0, ncost: 174968.9208617535\n",
            "Init: initializing centroids\n",
            "Init: initializing clusters\n",
            "Starting iterations...\n",
            "Run: 8, iteration: 1/20, moves: 292, ncost: 228820.15737583162\n",
            "Run: 8, iteration: 2/20, moves: 351, ncost: 206208.4789053664\n",
            "Run: 8, iteration: 3/20, moves: 371, ncost: 187950.82267285112\n",
            "Run: 8, iteration: 4/20, moves: 286, ncost: 178580.64184036688\n",
            "Run: 8, iteration: 5/20, moves: 159, ncost: 175486.87378510108\n",
            "Run: 8, iteration: 6/20, moves: 86, ncost: 174592.5545461206\n",
            "Run: 8, iteration: 7/20, moves: 16, ncost: 174521.44269122218\n",
            "Run: 8, iteration: 8/20, moves: 0, ncost: 174521.44269122218\n",
            "Init: initializing centroids\n",
            "Init: initializing clusters\n",
            "Starting iterations...\n",
            "Run: 9, iteration: 1/20, moves: 732, ncost: 187058.307232196\n",
            "Run: 9, iteration: 2/20, moves: 233, ncost: 179410.49906235855\n",
            "Run: 9, iteration: 3/20, moves: 125, ncost: 177104.83905211886\n",
            "Run: 9, iteration: 4/20, moves: 68, ncost: 176406.2171970093\n",
            "Run: 9, iteration: 5/20, moves: 9, ncost: 176382.95565375994\n",
            "Run: 9, iteration: 6/20, moves: 0, ncost: 176382.95565375994\n",
            "Init: initializing centroids\n",
            "Init: initializing clusters\n",
            "Starting iterations...\n",
            "Run: 10, iteration: 1/20, moves: 544, ncost: 175056.7156119188\n",
            "Run: 10, iteration: 2/20, moves: 113, ncost: 174287.36365010787\n",
            "Run: 10, iteration: 3/20, moves: 0, ncost: 174287.36365010787\n",
            "Best run was number 10\n"
          ],
          "name": "stdout"
        }
      ]
    },
    {
      "cell_type": "code",
      "metadata": {
        "id": "mJK2YgnEt62o",
        "colab_type": "code",
        "colab": {
          "base_uri": "https://localhost:8080/",
          "height": 101
        },
        "outputId": "0f55bdde-fe78-4ecf-bd75-e93a0c0cba2e"
      },
      "source": [
        "print(kproto.cluster_centroids_)   # El analisis arrojo 3 clusters y desplegamos sus centroides"
      ],
      "execution_count": null,
      "outputs": [
        {
          "output_type": "stream",
          "text": [
            "[array([[44.19666374],\n",
            "       [26.57094308],\n",
            "       [66.85603113]]), array([['No', 'No', 'No', 'No', 'No', 'No', 'No', 'No'],\n",
            "       ['No', 'No', 'No', 'No', 'No', 'No', 'No', 'No'],\n",
            "       ['No', 'No', 'No', 'No', 'Sí', 'No', 'No', 'No']], dtype='<U2')]\n"
          ],
          "name": "stdout"
        }
      ]
    },
    {
      "cell_type": "code",
      "metadata": {
        "id": "W9xhR7bkuK1V",
        "colab_type": "code",
        "colab": {}
      },
      "source": [
        "cluster_dict=[]\n",
        "for c in clusters:\n",
        "    cluster_dict.append(c)   #Generamos un diccionario con los numeros de clusters asociados a cada elemento"
      ],
      "execution_count": null,
      "outputs": []
    },
    {
      "cell_type": "code",
      "metadata": {
        "id": "cFN8bcYluXPM",
        "colab_type": "code",
        "colab": {}
      },
      "source": [
        "cluster_dict  # este es el diccionario que se agragara al Data Frame original"
      ],
      "execution_count": null,
      "outputs": []
    },
    {
      "cell_type": "code",
      "metadata": {
        "id": "Avfo1PKYumyr",
        "colab_type": "code",
        "colab": {}
      },
      "source": [
        "df['cluster']=cluster_dict  # Agragamos la columna que indica el cluster al que pertenece"
      ],
      "execution_count": null,
      "outputs": []
    },
    {
      "cell_type": "code",
      "metadata": {
        "id": "0VNSddi6u7o9",
        "colab_type": "code",
        "colab": {
          "base_uri": "https://localhost:8080/",
          "height": 373
        },
        "outputId": "c6034b4d-6a03-4d00-970a-aa64f12512c4"
      },
      "source": [
        "df.head(10)  # mostramos el analisis final con los elementos de cluster asociados a los pacientes"
      ],
      "execution_count": null,
      "outputs": [
        {
          "output_type": "execute_result",
          "data": {
            "text/html": [
              "<div>\n",
              "<style scoped>\n",
              "    .dataframe tbody tr th:only-of-type {\n",
              "        vertical-align: middle;\n",
              "    }\n",
              "\n",
              "    .dataframe tbody tr th {\n",
              "        vertical-align: top;\n",
              "    }\n",
              "\n",
              "    .dataframe thead th {\n",
              "        text-align: right;\n",
              "    }\n",
              "</style>\n",
              "<table border=\"1\" class=\"dataframe\">\n",
              "  <thead>\n",
              "    <tr style=\"text-align: right;\">\n",
              "      <th></th>\n",
              "      <th>NEUMONIA</th>\n",
              "      <th>EDAD</th>\n",
              "      <th>DIABETES</th>\n",
              "      <th>EPOC</th>\n",
              "      <th>ASMA</th>\n",
              "      <th>HIPERTENSION</th>\n",
              "      <th>CARDIOVASCULAR</th>\n",
              "      <th>OBESIDAD</th>\n",
              "      <th>TABAQUISMO</th>\n",
              "      <th>cluster</th>\n",
              "    </tr>\n",
              "    <tr>\n",
              "      <th>ID_REGISTRO</th>\n",
              "      <th></th>\n",
              "      <th></th>\n",
              "      <th></th>\n",
              "      <th></th>\n",
              "      <th></th>\n",
              "      <th></th>\n",
              "      <th></th>\n",
              "      <th></th>\n",
              "      <th></th>\n",
              "      <th></th>\n",
              "    </tr>\n",
              "  </thead>\n",
              "  <tbody>\n",
              "    <tr>\n",
              "      <th>132653</th>\n",
              "      <td>No</td>\n",
              "      <td>48</td>\n",
              "      <td>No</td>\n",
              "      <td>No</td>\n",
              "      <td>No</td>\n",
              "      <td>No</td>\n",
              "      <td>No</td>\n",
              "      <td>No</td>\n",
              "      <td>No</td>\n",
              "      <td>0</td>\n",
              "    </tr>\n",
              "    <tr>\n",
              "      <th>1a986f</th>\n",
              "      <td>No</td>\n",
              "      <td>37</td>\n",
              "      <td>No</td>\n",
              "      <td>No</td>\n",
              "      <td>No</td>\n",
              "      <td>No</td>\n",
              "      <td>No</td>\n",
              "      <td>No</td>\n",
              "      <td>No</td>\n",
              "      <td>0</td>\n",
              "    </tr>\n",
              "    <tr>\n",
              "      <th>1629a8</th>\n",
              "      <td>No</td>\n",
              "      <td>37</td>\n",
              "      <td>No</td>\n",
              "      <td>No</td>\n",
              "      <td>No</td>\n",
              "      <td>No</td>\n",
              "      <td>No</td>\n",
              "      <td>No</td>\n",
              "      <td>No</td>\n",
              "      <td>0</td>\n",
              "    </tr>\n",
              "    <tr>\n",
              "      <th>010db3</th>\n",
              "      <td>No</td>\n",
              "      <td>37</td>\n",
              "      <td>No</td>\n",
              "      <td>No</td>\n",
              "      <td>No</td>\n",
              "      <td>No</td>\n",
              "      <td>No</td>\n",
              "      <td>No</td>\n",
              "      <td>No</td>\n",
              "      <td>0</td>\n",
              "    </tr>\n",
              "    <tr>\n",
              "      <th>042aeb</th>\n",
              "      <td>No</td>\n",
              "      <td>46</td>\n",
              "      <td>No</td>\n",
              "      <td>No</td>\n",
              "      <td>No</td>\n",
              "      <td>No</td>\n",
              "      <td>No</td>\n",
              "      <td>No</td>\n",
              "      <td>No</td>\n",
              "      <td>0</td>\n",
              "    </tr>\n",
              "    <tr>\n",
              "      <th>17d826</th>\n",
              "      <td>No</td>\n",
              "      <td>30</td>\n",
              "      <td>No</td>\n",
              "      <td>No</td>\n",
              "      <td>No</td>\n",
              "      <td>No</td>\n",
              "      <td>No</td>\n",
              "      <td>No</td>\n",
              "      <td>No</td>\n",
              "      <td>1</td>\n",
              "    </tr>\n",
              "    <tr>\n",
              "      <th>1d9778</th>\n",
              "      <td>No</td>\n",
              "      <td>45</td>\n",
              "      <td>No</td>\n",
              "      <td>No</td>\n",
              "      <td>No</td>\n",
              "      <td>No</td>\n",
              "      <td>No</td>\n",
              "      <td>No</td>\n",
              "      <td>No</td>\n",
              "      <td>0</td>\n",
              "    </tr>\n",
              "    <tr>\n",
              "      <th>15e70b</th>\n",
              "      <td>No</td>\n",
              "      <td>41</td>\n",
              "      <td>No</td>\n",
              "      <td>No</td>\n",
              "      <td>No</td>\n",
              "      <td>Sí</td>\n",
              "      <td>No</td>\n",
              "      <td>Sí</td>\n",
              "      <td>No</td>\n",
              "      <td>0</td>\n",
              "    </tr>\n",
              "    <tr>\n",
              "      <th>19e522</th>\n",
              "      <td>Sí</td>\n",
              "      <td>39</td>\n",
              "      <td>Sí</td>\n",
              "      <td>No</td>\n",
              "      <td>No</td>\n",
              "      <td>Sí</td>\n",
              "      <td>No</td>\n",
              "      <td>No</td>\n",
              "      <td>No</td>\n",
              "      <td>0</td>\n",
              "    </tr>\n",
              "    <tr>\n",
              "      <th>160e80</th>\n",
              "      <td>No</td>\n",
              "      <td>49</td>\n",
              "      <td>No</td>\n",
              "      <td>No</td>\n",
              "      <td>No</td>\n",
              "      <td>Sí</td>\n",
              "      <td>No</td>\n",
              "      <td>Sí</td>\n",
              "      <td>No</td>\n",
              "      <td>0</td>\n",
              "    </tr>\n",
              "  </tbody>\n",
              "</table>\n",
              "</div>"
            ],
            "text/plain": [
              "            NEUMONIA  EDAD DIABETES  ... OBESIDAD TABAQUISMO cluster\n",
              "ID_REGISTRO                          ...                            \n",
              "132653            No    48       No  ...       No         No       0\n",
              "1a986f            No    37       No  ...       No         No       0\n",
              "1629a8            No    37       No  ...       No         No       0\n",
              "010db3            No    37       No  ...       No         No       0\n",
              "042aeb            No    46       No  ...       No         No       0\n",
              "17d826            No    30       No  ...       No         No       1\n",
              "1d9778            No    45       No  ...       No         No       0\n",
              "15e70b            No    41       No  ...       Sí         No       0\n",
              "19e522            Sí    39       Sí  ...       No         No       0\n",
              "160e80            No    49       No  ...       Sí         No       0\n",
              "\n",
              "[10 rows x 10 columns]"
            ]
          },
          "metadata": {
            "tags": []
          },
          "execution_count": 33
        }
      ]
    },
    {
      "cell_type": "code",
      "metadata": {
        "id": "MO6X0vMbS9ch",
        "colab_type": "code",
        "colab": {
          "base_uri": "https://localhost:8080/",
          "height": 265
        },
        "outputId": "e7c0643a-20cf-44d8-ed7b-c61a4715c747"
      },
      "source": [
        "plt.scatter(df['EDAD'],df['cluster']);  # Graficamos los clusters para observar la separacion producida por la edad"
      ],
      "execution_count": null,
      "outputs": [
        {
          "output_type": "display_data",
          "data": {
            "image/png": "[encoded data removed]",
            "text/plain": [
              "<Figure size 432x288 with 1 Axes>"
            ]
          },
          "metadata": {
            "tags": [],
            "needs_background": "light"
          }
        }
      ]
    },
    {
      "cell_type": "code",
      "metadata": {
        "id": "aqXfKRLyvdvU",
        "colab_type": "code",
        "colab": {
          "base_uri": "https://localhost:8080/",
          "height": 166
        },
        "outputId": "2b5c5d35-4b8e-4c6b-e20b-3f02570e0475"
      },
      "source": [
        "df[df['cluster']== 1].head(3) # Creamos el 1er cluster"
      ],
      "execution_count": null,
      "outputs": [
        {
          "output_type": "execute_result",
          "data": {
            "text/html": [
              "<div>\n",
              "<style scoped>\n",
              "    .dataframe tbody tr th:only-of-type {\n",
              "        vertical-align: middle;\n",
              "    }\n",
              "\n",
              "    .dataframe tbody tr th {\n",
              "        vertical-align: top;\n",
              "    }\n",
              "\n",
              "    .dataframe thead th {\n",
              "        text-align: right;\n",
              "    }\n",
              "</style>\n",
              "<table border=\"1\" class=\"dataframe\">\n",
              "  <thead>\n",
              "    <tr style=\"text-align: right;\">\n",
              "      <th></th>\n",
              "      <th>NEUMONIA</th>\n",
              "      <th>EDAD</th>\n",
              "      <th>DIABETES</th>\n",
              "      <th>EPOC</th>\n",
              "      <th>ASMA</th>\n",
              "      <th>HIPERTENSION</th>\n",
              "      <th>CARDIOVASCULAR</th>\n",
              "      <th>OBESIDAD</th>\n",
              "      <th>TABAQUISMO</th>\n",
              "      <th>cluster</th>\n",
              "    </tr>\n",
              "    <tr>\n",
              "      <th>ID_REGISTRO</th>\n",
              "      <th></th>\n",
              "      <th></th>\n",
              "      <th></th>\n",
              "      <th></th>\n",
              "      <th></th>\n",
              "      <th></th>\n",
              "      <th></th>\n",
              "      <th></th>\n",
              "      <th></th>\n",
              "      <th></th>\n",
              "    </tr>\n",
              "  </thead>\n",
              "  <tbody>\n",
              "    <tr>\n",
              "      <th>17d826</th>\n",
              "      <td>No</td>\n",
              "      <td>30</td>\n",
              "      <td>No</td>\n",
              "      <td>No</td>\n",
              "      <td>No</td>\n",
              "      <td>No</td>\n",
              "      <td>No</td>\n",
              "      <td>No</td>\n",
              "      <td>No</td>\n",
              "      <td>1</td>\n",
              "    </tr>\n",
              "    <tr>\n",
              "      <th>0359db</th>\n",
              "      <td>No</td>\n",
              "      <td>35</td>\n",
              "      <td>No</td>\n",
              "      <td>No</td>\n",
              "      <td>No</td>\n",
              "      <td>No</td>\n",
              "      <td>No</td>\n",
              "      <td>No</td>\n",
              "      <td>No</td>\n",
              "      <td>1</td>\n",
              "    </tr>\n",
              "    <tr>\n",
              "      <th>1257fb</th>\n",
              "      <td>No</td>\n",
              "      <td>32</td>\n",
              "      <td>Sí</td>\n",
              "      <td>No</td>\n",
              "      <td>No</td>\n",
              "      <td>No</td>\n",
              "      <td>No</td>\n",
              "      <td>No</td>\n",
              "      <td>Sí</td>\n",
              "      <td>1</td>\n",
              "    </tr>\n",
              "  </tbody>\n",
              "</table>\n",
              "</div>"
            ],
            "text/plain": [
              "            NEUMONIA  EDAD DIABETES  ... OBESIDAD TABAQUISMO cluster\n",
              "ID_REGISTRO                          ...                            \n",
              "17d826            No    30       No  ...       No         No       1\n",
              "0359db            No    35       No  ...       No         No       1\n",
              "1257fb            No    32       Sí  ...       No         Sí       1\n",
              "\n",
              "[3 rows x 10 columns]"
            ]
          },
          "metadata": {
            "tags": []
          },
          "execution_count": 35
        }
      ]
    },
    {
      "cell_type": "code",
      "metadata": {
        "id": "LDSz1Zg_Vx1I",
        "colab_type": "code",
        "colab": {}
      },
      "source": [
        "df1 = df[df['cluster']== 1]   # cluster con edades de 23-35"
      ],
      "execution_count": null,
      "outputs": []
    },
    {
      "cell_type": "code",
      "metadata": {
        "id": "Xqpl96ML0CMq",
        "colab_type": "code",
        "colab": {
          "base_uri": "https://localhost:8080/",
          "height": 34
        },
        "outputId": "2f4dd5d8-286b-474a-e50a-0c20897e95aa"
      },
      "source": [
        "df1.shape"
      ],
      "execution_count": null,
      "outputs": [
        {
          "output_type": "execute_result",
          "data": {
            "text/plain": [
              "(1177, 10)"
            ]
          },
          "metadata": {
            "tags": []
          },
          "execution_count": 37
        }
      ]
    },
    {
      "cell_type": "code",
      "metadata": {
        "id": "flOPtze1Uqj7",
        "colab_type": "code",
        "colab": {
          "base_uri": "https://localhost:8080/",
          "height": 373
        },
        "outputId": "393ea51d-abb6-47b1-9114-5b1b533d7d42"
      },
      "source": [
        "plot = df1['EDAD'].value_counts().plot(kind='pie', autopct='%.1f', \n",
        "                                            figsize=(6, 6),\n",
        "                                            title='% Edades') # Graficamos por edades el cluster 1 para identificar el rango de edad preponderante"
      ],
      "execution_count": null,
      "outputs": [
        {
          "output_type": "display_data",
          "data": {
            "image/png": "[encoded data removed]",
            "text/plain": [
              "<Figure size 432x432 with 1 Axes>"
            ]
          },
          "metadata": {
            "tags": []
          }
        }
      ]
    },
    {
      "cell_type": "code",
      "metadata": {
        "id": "NyKvrGqpUX2u",
        "colab_type": "code",
        "colab": {
          "base_uri": "https://localhost:8080/",
          "height": 118
        },
        "outputId": "28701a10-c02c-4e76-9db5-8b0cf30a60d9"
      },
      "source": [
        "100 * df1['NEUMONIA'].value_counts() / len(df1['NEUMONIA'])    #Analizamos ahora cada variable categorica asociada a las cormobidades para identificar las caracteristicas del cluster\n",
        "100 * df1['DIABETES'].value_counts() / len(df1['DIABETES'])\n",
        "100 * df1['EPOC'].value_counts() / len(df1['EPOC'])\n",
        "100 * df1['ASMA'].value_counts() / len(df1['ASMA'])\n",
        "100 * df1['HIPERTENSION'].value_counts() / len(df1['HIPERTENSION'])\n",
        "100 * df1['CARDIOVASCULAR'].value_counts() / len(df1['CARDIOVASCULAR'])\n",
        "100 * df1['OBESIDAD'].value_counts() / len(df1['OBESIDAD'])\n",
        "100 * df1['TABAQUISMO'].value_counts() / len(df1['TABAQUISMO'])"
      ],
      "execution_count": null,
      "outputs": [
        {
          "output_type": "execute_result",
          "data": {
            "text/plain": [
              "No                 96.516568\n",
              "Sí                  3.398471\n",
              "Se ignora           0.084962\n",
              "No especificado     0.000000\n",
              "No aplica           0.000000\n",
              "Name: TABAQUISMO, dtype: float64"
            ]
          },
          "metadata": {
            "tags": []
          },
          "execution_count": 46
        }
      ]
    },
    {
      "cell_type": "code",
      "metadata": {
        "id": "dlX-iO9TayPA",
        "colab_type": "code",
        "colab": {
          "base_uri": "https://localhost:8080/",
          "height": 166
        },
        "outputId": "70dfdbf2-9376-43e7-deb7-87a86541814b"
      },
      "source": [
        "df0 = df[df['cluster']== 0]   # cluster con edades de 36-55  Repetidmos el procedimiento anterior para los otros 2 clusters\n",
        "df0.head(3)"
      ],
      "execution_count": null,
      "outputs": [
        {
          "output_type": "execute_result",
          "data": {
            "text/html": [
              "<div>\n",
              "<style scoped>\n",
              "    .dataframe tbody tr th:only-of-type {\n",
              "        vertical-align: middle;\n",
              "    }\n",
              "\n",
              "    .dataframe tbody tr th {\n",
              "        vertical-align: top;\n",
              "    }\n",
              "\n",
              "    .dataframe thead th {\n",
              "        text-align: right;\n",
              "    }\n",
              "</style>\n",
              "<table border=\"1\" class=\"dataframe\">\n",
              "  <thead>\n",
              "    <tr style=\"text-align: right;\">\n",
              "      <th></th>\n",
              "      <th>NEUMONIA</th>\n",
              "      <th>EDAD</th>\n",
              "      <th>DIABETES</th>\n",
              "      <th>EPOC</th>\n",
              "      <th>ASMA</th>\n",
              "      <th>HIPERTENSION</th>\n",
              "      <th>CARDIOVASCULAR</th>\n",
              "      <th>OBESIDAD</th>\n",
              "      <th>TABAQUISMO</th>\n",
              "      <th>cluster</th>\n",
              "    </tr>\n",
              "    <tr>\n",
              "      <th>ID_REGISTRO</th>\n",
              "      <th></th>\n",
              "      <th></th>\n",
              "      <th></th>\n",
              "      <th></th>\n",
              "      <th></th>\n",
              "      <th></th>\n",
              "      <th></th>\n",
              "      <th></th>\n",
              "      <th></th>\n",
              "      <th></th>\n",
              "    </tr>\n",
              "  </thead>\n",
              "  <tbody>\n",
              "    <tr>\n",
              "      <th>132653</th>\n",
              "      <td>No</td>\n",
              "      <td>48</td>\n",
              "      <td>No</td>\n",
              "      <td>No</td>\n",
              "      <td>No</td>\n",
              "      <td>No</td>\n",
              "      <td>No</td>\n",
              "      <td>No</td>\n",
              "      <td>No</td>\n",
              "      <td>0</td>\n",
              "    </tr>\n",
              "    <tr>\n",
              "      <th>1a986f</th>\n",
              "      <td>No</td>\n",
              "      <td>37</td>\n",
              "      <td>No</td>\n",
              "      <td>No</td>\n",
              "      <td>No</td>\n",
              "      <td>No</td>\n",
              "      <td>No</td>\n",
              "      <td>No</td>\n",
              "      <td>No</td>\n",
              "      <td>0</td>\n",
              "    </tr>\n",
              "    <tr>\n",
              "      <th>1629a8</th>\n",
              "      <td>No</td>\n",
              "      <td>37</td>\n",
              "      <td>No</td>\n",
              "      <td>No</td>\n",
              "      <td>No</td>\n",
              "      <td>No</td>\n",
              "      <td>No</td>\n",
              "      <td>No</td>\n",
              "      <td>No</td>\n",
              "      <td>0</td>\n",
              "    </tr>\n",
              "  </tbody>\n",
              "</table>\n",
              "</div>"
            ],
            "text/plain": [
              "            NEUMONIA  EDAD DIABETES  ... OBESIDAD TABAQUISMO cluster\n",
              "ID_REGISTRO                          ...                            \n",
              "132653            No    48       No  ...       No         No       0\n",
              "1a986f            No    37       No  ...       No         No       0\n",
              "1629a8            No    37       No  ...       No         No       0\n",
              "\n",
              "[3 rows x 10 columns]"
            ]
          },
          "metadata": {
            "tags": []
          },
          "execution_count": 47
        }
      ]
    },
    {
      "cell_type": "code",
      "metadata": {
        "id": "Tjw3lS1n0sEA",
        "colab_type": "code",
        "colab": {
          "base_uri": "https://localhost:8080/",
          "height": 34
        },
        "outputId": "55c8a067-fb29-40c5-a15f-631a3dae1c8c"
      },
      "source": [
        "df0.shape"
      ],
      "execution_count": null,
      "outputs": [
        {
          "output_type": "execute_result",
          "data": {
            "text/plain": [
              "(1139, 10)"
            ]
          },
          "metadata": {
            "tags": []
          },
          "execution_count": 48
        }
      ]
    },
    {
      "cell_type": "code",
      "metadata": {
        "id": "EJKOL4QVbtXi",
        "colab_type": "code",
        "colab": {
          "base_uri": "https://localhost:8080/",
          "height": 373
        },
        "outputId": "239e5329-a863-41fc-80cc-9f5ef3dce70b"
      },
      "source": [
        "plot = df0['EDAD'].value_counts().plot(kind='pie', autopct='%.1f', \n",
        "                                            figsize=(6, 6),\n",
        "                                            title='% Edades') "
      ],
      "execution_count": null,
      "outputs": [
        {
          "output_type": "display_data",
          "data": {
            "image/png": "[encoded data removed]",
            "text/plain": [
              "<Figure size 432x432 with 1 Axes>"
            ]
          },
          "metadata": {
            "tags": []
          }
        }
      ]
    },
    {
      "cell_type": "code",
      "metadata": {
        "id": "mZeuBBpMcllA",
        "colab_type": "code",
        "colab": {
          "base_uri": "https://localhost:8080/",
          "height": 118
        },
        "outputId": "00827819-f66a-4e39-fe38-ac9f976f60fd"
      },
      "source": [
        "100 * df0['NEUMONIA'].value_counts() / len(df0['NEUMONIA']) \n",
        "100 * df0['DIABETES'].value_counts() / len(df0['DIABETES'])\n",
        "100 * df0['EPOC'].value_counts() / len(df0['EPOC'])\n",
        "100 * df0['ASMA'].value_counts() / len(df0['ASMA'])\n",
        "100 * df0['HIPERTENSION'].value_counts() / len(df0['HIPERTENSION'])\n",
        "100 * df0['CARDIOVASCULAR'].value_counts() / len(df0['CARDIOVASCULAR'])\n",
        "100 * df0['OBESIDAD'].value_counts() / len(df0['OBESIDAD'])\n",
        "100 * df0['TABAQUISMO'].value_counts() / len(df0['TABAQUISMO'])"
      ],
      "execution_count": null,
      "outputs": [
        {
          "output_type": "execute_result",
          "data": {
            "text/plain": [
              "No                 97.190518\n",
              "Sí                  2.546093\n",
              "Se ignora           0.263389\n",
              "No especificado     0.000000\n",
              "No aplica           0.000000\n",
              "Name: TABAQUISMO, dtype: float64"
            ]
          },
          "metadata": {
            "tags": []
          },
          "execution_count": 57
        }
      ]
    },
    {
      "cell_type": "code",
      "metadata": {
        "id": "-gDvhR0Qcxxe",
        "colab_type": "code",
        "colab": {}
      },
      "source": [
        "df2 = df[df['cluster']== 2]   # cluster con edades de 56-72+\n",
        "df2.head(3)"
      ],
      "execution_count": null,
      "outputs": []
    },
    {
      "cell_type": "code",
      "metadata": {
        "id": "lxBl-7PU03SF",
        "colab_type": "code",
        "colab": {
          "base_uri": "https://localhost:8080/",
          "height": 34
        },
        "outputId": "bb37d118-cd52-4010-e1aa-3b636d49657e"
      },
      "source": [
        "df2.shape"
      ],
      "execution_count": null,
      "outputs": [
        {
          "output_type": "execute_result",
          "data": {
            "text/plain": [
              "(771, 10)"
            ]
          },
          "metadata": {
            "tags": []
          },
          "execution_count": 62
        }
      ]
    },
    {
      "cell_type": "code",
      "metadata": {
        "id": "hHi_jUumimWH",
        "colab_type": "code",
        "colab": {
          "base_uri": "https://localhost:8080/",
          "height": 373
        },
        "outputId": "bea9e257-618f-4af9-ceb9-71060a683657"
      },
      "source": [
        "plot = df2['EDAD'].value_counts().plot(kind='pie', autopct='%.1f', \n",
        "                                            figsize=(6, 6),\n",
        "                                            title='% Edades') "
      ],
      "execution_count": null,
      "outputs": [
        {
          "output_type": "display_data",
          "data": {
            "image/png": "[encoded data removed]",
            "text/plain": [
              "<Figure size 432x432 with 1 Axes>"
            ]
          },
          "metadata": {
            "tags": []
          }
        }
      ]
    },
    {
      "cell_type": "code",
      "metadata": {
        "id": "_lm0MIFGmlke",
        "colab_type": "code",
        "colab": {
          "base_uri": "https://localhost:8080/",
          "height": 118
        },
        "outputId": "cf088fa5-1099-40d3-ba70-626f4853391b"
      },
      "source": [
        "100 * df2['NEUMONIA'].value_counts() / len(df2['NEUMONIA']) \n",
        "100 * df2['DIABETES'].value_counts() / len(df2['DIABETES'])\n",
        "100 * df2['EPOC'].value_counts() / len(df2['EPOC'])\n",
        "100 * df2['ASMA'].value_counts() / len(df2['ASMA'])\n",
        "100 * df2['HIPERTENSION'].value_counts() / len(df2['HIPERTENSION'])\n",
        "100 * df2['CARDIOVASCULAR'].value_counts() / len(df2['CARDIOVASCULAR'])\n",
        "100 * df2['OBESIDAD'].value_counts() / len(df2['OBESIDAD'])\n",
        "100 * df2['TABAQUISMO'].value_counts() / len(df2['TABAQUISMO'])"
      ],
      "execution_count": null,
      "outputs": [
        {
          "output_type": "execute_result",
          "data": {
            "text/plain": [
              "No                 97.535668\n",
              "Sí                  2.075227\n",
              "Se ignora           0.389105\n",
              "No especificado     0.000000\n",
              "No aplica           0.000000\n",
              "Name: TABAQUISMO, dtype: float64"
            ]
          },
          "metadata": {
            "tags": []
          },
          "execution_count": 71
        }
      ]
    },
    {
      "cell_type": "code",
      "metadata": {
        "id": "gpWt9mColAm-",
        "colab_type": "code",
        "colab": {
          "base_uri": "https://localhost:8080/",
          "height": 195
        },
        "outputId": "804c4347-0387-435c-cc9c-a32d39a83fbe"
      },
      "source": [
        "pd.crosstab(index=df2['OBESIDAD'], columns=df2['HIPERTENSION'],     # Hacemos una tabla cruzada para analizar efectos combinados\n",
        "            margins=True).apply(lambda r: r/len(df1) *100, axis=1)"
      ],
      "execution_count": null,
      "outputs": [
        {
          "output_type": "execute_result",
          "data": {
            "text/html": [
              "<div>\n",
              "<style scoped>\n",
              "    .dataframe tbody tr th:only-of-type {\n",
              "        vertical-align: middle;\n",
              "    }\n",
              "\n",
              "    .dataframe tbody tr th {\n",
              "        vertical-align: top;\n",
              "    }\n",
              "\n",
              "    .dataframe thead th {\n",
              "        text-align: right;\n",
              "    }\n",
              "</style>\n",
              "<table border=\"1\" class=\"dataframe\">\n",
              "  <thead>\n",
              "    <tr style=\"text-align: right;\">\n",
              "      <th>HIPERTENSION</th>\n",
              "      <th>Sí</th>\n",
              "      <th>No</th>\n",
              "      <th>Se ignora</th>\n",
              "      <th>All</th>\n",
              "    </tr>\n",
              "    <tr>\n",
              "      <th>OBESIDAD</th>\n",
              "      <th></th>\n",
              "      <th></th>\n",
              "      <th></th>\n",
              "      <th></th>\n",
              "    </tr>\n",
              "  </thead>\n",
              "  <tbody>\n",
              "    <tr>\n",
              "      <th>Sí</th>\n",
              "      <td>10.365336</td>\n",
              "      <td>7.306712</td>\n",
              "      <td>0.000000</td>\n",
              "      <td>17.672048</td>\n",
              "    </tr>\n",
              "    <tr>\n",
              "      <th>No</th>\n",
              "      <td>23.109601</td>\n",
              "      <td>24.468989</td>\n",
              "      <td>0.084962</td>\n",
              "      <td>47.663551</td>\n",
              "    </tr>\n",
              "    <tr>\n",
              "      <th>Se ignora</th>\n",
              "      <td>0.000000</td>\n",
              "      <td>0.000000</td>\n",
              "      <td>0.169924</td>\n",
              "      <td>0.169924</td>\n",
              "    </tr>\n",
              "    <tr>\n",
              "      <th>All</th>\n",
              "      <td>33.474936</td>\n",
              "      <td>31.775701</td>\n",
              "      <td>0.254885</td>\n",
              "      <td>65.505523</td>\n",
              "    </tr>\n",
              "  </tbody>\n",
              "</table>\n",
              "</div>"
            ],
            "text/plain": [
              "HIPERTENSION         Sí         No  Se ignora        All\n",
              "OBESIDAD                                                \n",
              "Sí            10.365336   7.306712   0.000000  17.672048\n",
              "No            23.109601  24.468989   0.084962  47.663551\n",
              "Se ignora      0.000000   0.000000   0.169924   0.169924\n",
              "All           33.474936  31.775701   0.254885  65.505523"
            ]
          },
          "metadata": {
            "tags": []
          },
          "execution_count": 74
        }
      ]
    },
    {
      "cell_type": "code",
      "metadata": {
        "id": "2AGvs2VntjC1",
        "colab_type": "code",
        "colab": {
          "base_uri": "https://localhost:8080/",
          "height": 166
        },
        "outputId": "9a98da3d-bf26-4d93-be60-5a409e120822"
      },
      "source": [
        "pd.crosstab(index=df2['OBESIDAD'], columns=df2['NEUMONIA']   # Hacemos una tabla cruzada para analizar efectos combinados en %\n",
        "           ).apply(lambda r: r/r.sum() *100,\n",
        "                                axis=1)"
      ],
      "execution_count": null,
      "outputs": [
        {
          "output_type": "execute_result",
          "data": {
            "text/html": [
              "<div>\n",
              "<style scoped>\n",
              "    .dataframe tbody tr th:only-of-type {\n",
              "        vertical-align: middle;\n",
              "    }\n",
              "\n",
              "    .dataframe tbody tr th {\n",
              "        vertical-align: top;\n",
              "    }\n",
              "\n",
              "    .dataframe thead th {\n",
              "        text-align: right;\n",
              "    }\n",
              "</style>\n",
              "<table border=\"1\" class=\"dataframe\">\n",
              "  <thead>\n",
              "    <tr style=\"text-align: right;\">\n",
              "      <th>NEUMONIA</th>\n",
              "      <th>Sí</th>\n",
              "      <th>No</th>\n",
              "    </tr>\n",
              "    <tr>\n",
              "      <th>OBESIDAD</th>\n",
              "      <th></th>\n",
              "      <th></th>\n",
              "    </tr>\n",
              "  </thead>\n",
              "  <tbody>\n",
              "    <tr>\n",
              "      <th>Sí</th>\n",
              "      <td>40.384615</td>\n",
              "      <td>59.615385</td>\n",
              "    </tr>\n",
              "    <tr>\n",
              "      <th>No</th>\n",
              "      <td>30.124777</td>\n",
              "      <td>69.875223</td>\n",
              "    </tr>\n",
              "    <tr>\n",
              "      <th>Se ignora</th>\n",
              "      <td>0.000000</td>\n",
              "      <td>100.000000</td>\n",
              "    </tr>\n",
              "  </tbody>\n",
              "</table>\n",
              "</div>"
            ],
            "text/plain": [
              "NEUMONIA          Sí          No\n",
              "OBESIDAD                        \n",
              "Sí         40.384615   59.615385\n",
              "No         30.124777   69.875223\n",
              "Se ignora   0.000000  100.000000"
            ]
          },
          "metadata": {
            "tags": []
          },
          "execution_count": 78
        }
      ]
    },
    {
      "cell_type": "code",
      "metadata": {
        "id": "AMOvHPHjwKWf",
        "colab_type": "code",
        "colab": {}
      },
      "source": [
        "plot = pd.crosstab(index=df1['OBESIDAD'],\n",
        "            columns=df1['NEUMONIA']\n",
        "                  ).apply(lambda r: r/r.sum() *100,\n",
        "                          axis=0).plot(kind='bar', stacked=True)"
      ],
      "execution_count": null,
      "outputs": []
    },
    {
      "cell_type": "markdown",
      "metadata": {
        "id": "tWoR__zFtg1Z",
        "colab_type": "text"
      },
      "source": [
        "# **Se repite todo lo anterios para los HOMBRES**"
      ]
    },
    {
      "cell_type": "markdown",
      "metadata": {
        "id": "lB2Rd9qvtTN5",
        "colab_type": "text"
      },
      "source": [
        "# **El link de abajo resume los resultados obtenidos**"
      ]
    },
    {
      "cell_type": "markdown",
      "metadata": {
        "id": "-DqlpyC5dj4Y",
        "colab_type": "text"
      },
      "source": [
        "\n",
        "[Resumen de Resultados](https://docs.google.com/presentation/d/e/2PACX-1vSSSvjJdEaKfwkXIP5DlBtZKHczlDK5xNfT_22YBpDvUKrnf2au8WWJfi0b55-I-1-_3XEi63z1397L/pub?start=true&loop=false&delayms=3000)\n"
      ]
    }
  ]
}